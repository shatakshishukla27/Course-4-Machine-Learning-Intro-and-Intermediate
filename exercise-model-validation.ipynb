{
 "cells": [
  {
   "cell_type": "markdown",
   "id": "acute-beads",
   "metadata": {
    "papermill": {
     "duration": 0.011036,
     "end_time": "2021-05-09T07:36:08.519264",
     "exception": false,
     "start_time": "2021-05-09T07:36:08.508228",
     "status": "completed"
    },
    "tags": []
   },
   "source": [
    "**This notebook is an exercise in the [Introduction to Machine Learning](https://www.kaggle.com/learn/intro-to-machine-learning) course.  You can reference the tutorial at [this link](https://www.kaggle.com/dansbecker/model-validation).**\n",
    "\n",
    "---\n"
   ]
  },
  {
   "cell_type": "markdown",
   "id": "known-missile",
   "metadata": {
    "papermill": {
     "duration": 0.009603,
     "end_time": "2021-05-09T07:36:08.538731",
     "exception": false,
     "start_time": "2021-05-09T07:36:08.529128",
     "status": "completed"
    },
    "tags": []
   },
   "source": [
    "## Recap\n",
    "You've built a model. In this exercise you will test how good your model is.\n",
    "\n",
    "Run the cell below to set up your coding environment where the previous exercise left off."
   ]
  },
  {
   "cell_type": "code",
   "execution_count": 1,
   "id": "medieval-mauritius",
   "metadata": {
    "execution": {
     "iopub.execute_input": "2021-05-09T07:36:08.565643Z",
     "iopub.status.busy": "2021-05-09T07:36:08.565052Z",
     "iopub.status.idle": "2021-05-09T07:36:10.625532Z",
     "shell.execute_reply": "2021-05-09T07:36:10.624863Z"
    },
    "papermill": {
     "duration": 2.077238,
     "end_time": "2021-05-09T07:36:10.625686",
     "exception": false,
     "start_time": "2021-05-09T07:36:08.548448",
     "status": "completed"
    },
    "tags": []
   },
   "outputs": [
    {
     "name": "stdout",
     "output_type": "stream",
     "text": [
      "First in-sample predictions: [208500. 181500. 223500. 140000. 250000.]\n",
      "Actual target values for those homes: [208500, 181500, 223500, 140000, 250000]\n",
      "Setup Complete\n"
     ]
    }
   ],
   "source": [
    "# Code you have previously used to load data\n",
    "import pandas as pd\n",
    "from sklearn.tree import DecisionTreeRegressor\n",
    "\n",
    "# Path of the file to read\n",
    "iowa_file_path = '../input/home-data-for-ml-course/train.csv'\n",
    "\n",
    "home_data = pd.read_csv(iowa_file_path)\n",
    "y = home_data.SalePrice\n",
    "feature_columns = ['LotArea', 'YearBuilt', '1stFlrSF', '2ndFlrSF', 'FullBath', 'BedroomAbvGr', 'TotRmsAbvGrd']\n",
    "X = home_data[feature_columns]\n",
    "\n",
    "# Specify Model\n",
    "iowa_model = DecisionTreeRegressor()\n",
    "# Fit Model\n",
    "iowa_model.fit(X, y)\n",
    "\n",
    "print(\"First in-sample predictions:\", iowa_model.predict(X.head()))\n",
    "print(\"Actual target values for those homes:\", y.head().tolist())\n",
    "\n",
    "# Set up code checking\n",
    "from learntools.core import binder\n",
    "binder.bind(globals())\n",
    "from learntools.machine_learning.ex4 import *\n",
    "print(\"Setup Complete\")"
   ]
  },
  {
   "cell_type": "markdown",
   "id": "different-penguin",
   "metadata": {
    "papermill": {
     "duration": 0.009537,
     "end_time": "2021-05-09T07:36:10.646136",
     "exception": false,
     "start_time": "2021-05-09T07:36:10.636599",
     "status": "completed"
    },
    "tags": []
   },
   "source": [
    "# Exercises\n",
    "\n",
    "## Step 1: Split Your Data\n",
    "Use the `train_test_split` function to split up your data.\n",
    "\n",
    "Give it the argument `random_state=1` so the `check` functions know what to expect when verifying your code.\n",
    "\n",
    "Recall, your features are loaded in the DataFrame **X** and your target is loaded in **y**.\n"
   ]
  },
  {
   "cell_type": "code",
   "execution_count": 2,
   "id": "entire-amendment",
   "metadata": {
    "execution": {
     "iopub.execute_input": "2021-05-09T07:36:10.673543Z",
     "iopub.status.busy": "2021-05-09T07:36:10.673020Z",
     "iopub.status.idle": "2021-05-09T07:36:10.709851Z",
     "shell.execute_reply": "2021-05-09T07:36:10.710343Z"
    },
    "papermill": {
     "duration": 0.054074,
     "end_time": "2021-05-09T07:36:10.710488",
     "exception": false,
     "start_time": "2021-05-09T07:36:10.656414",
     "status": "completed"
    },
    "tags": []
   },
   "outputs": [
    {
     "data": {
      "application/javascript": [
       "parent.postMessage({\"jupyterEvent\": \"custom.exercise_interaction\", \"data\": {\"outcomeType\": 1, \"valueTowardsCompletion\": 0.25, \"interactionType\": 1, \"questionType\": 2, \"questionId\": \"1_SplitData\", \"learnToolsVersion\": \"0.3.4\", \"failureMessage\": \"\", \"exceptionClass\": \"\", \"trace\": \"\"}}, \"*\")"
      ],
      "text/plain": [
       "<IPython.core.display.Javascript object>"
      ]
     },
     "metadata": {},
     "output_type": "display_data"
    },
    {
     "data": {
      "text/markdown": [
       "<span style=\"color:#33cc33\">Correct</span>"
      ],
      "text/plain": [
       "Correct"
      ]
     },
     "metadata": {},
     "output_type": "display_data"
    }
   ],
   "source": [
    "# Import the train_test_split function and uncomment\n",
    "from sklearn.model_selection import train_test_split\n",
    "\n",
    "# fill in and uncomment\n",
    "train_X, val_X, train_y, val_y = train_test_split(X, y, random_state=1)\n",
    "\n",
    "# Check your answer\n",
    "step_1.check()"
   ]
  },
  {
   "cell_type": "code",
   "execution_count": 3,
   "id": "level-heart",
   "metadata": {
    "execution": {
     "iopub.execute_input": "2021-05-09T07:36:10.737219Z",
     "iopub.status.busy": "2021-05-09T07:36:10.736498Z",
     "iopub.status.idle": "2021-05-09T07:36:10.739391Z",
     "shell.execute_reply": "2021-05-09T07:36:10.738774Z"
    },
    "papermill": {
     "duration": 0.018279,
     "end_time": "2021-05-09T07:36:10.739533",
     "exception": false,
     "start_time": "2021-05-09T07:36:10.721254",
     "status": "completed"
    },
    "tags": []
   },
   "outputs": [],
   "source": [
    "# The lines below will show you a hint or the solution.\n",
    "# step_1.hint() \n",
    "# step_1.solution()"
   ]
  },
  {
   "cell_type": "markdown",
   "id": "frank-walnut",
   "metadata": {
    "papermill": {
     "duration": 0.01862,
     "end_time": "2021-05-09T07:36:10.774784",
     "exception": false,
     "start_time": "2021-05-09T07:36:10.756164",
     "status": "completed"
    },
    "tags": []
   },
   "source": [
    "## Step 2: Specify and Fit the Model\n",
    "\n",
    "Create a `DecisionTreeRegressor` model and fit it to the relevant data.\n",
    "Set `random_state` to 1 again when creating the model."
   ]
  },
  {
   "cell_type": "code",
   "execution_count": 4,
   "id": "external-subcommittee",
   "metadata": {
    "execution": {
     "iopub.execute_input": "2021-05-09T07:36:10.811478Z",
     "iopub.status.busy": "2021-05-09T07:36:10.810713Z",
     "iopub.status.idle": "2021-05-09T07:36:10.842747Z",
     "shell.execute_reply": "2021-05-09T07:36:10.842086Z"
    },
    "papermill": {
     "duration": 0.051478,
     "end_time": "2021-05-09T07:36:10.842874",
     "exception": false,
     "start_time": "2021-05-09T07:36:10.791396",
     "status": "completed"
    },
    "tags": []
   },
   "outputs": [
    {
     "name": "stdout",
     "output_type": "stream",
     "text": [
      "[186500. 184000. 130000.  92000. 164500. 220000. 335000. 144152. 215000.\n",
      " 262000.]\n",
      "[186500. 184000. 130000.  92000. 164500. 220000. 335000. 144152. 215000.\n",
      " 262000.]\n"
     ]
    },
    {
     "data": {
      "application/javascript": [
       "parent.postMessage({\"jupyterEvent\": \"custom.exercise_interaction\", \"data\": {\"outcomeType\": 1, \"valueTowardsCompletion\": 0.25, \"interactionType\": 1, \"questionType\": 2, \"questionId\": \"2_FitModelWithTrain\", \"learnToolsVersion\": \"0.3.4\", \"failureMessage\": \"\", \"exceptionClass\": \"\", \"trace\": \"\"}}, \"*\")"
      ],
      "text/plain": [
       "<IPython.core.display.Javascript object>"
      ]
     },
     "metadata": {},
     "output_type": "display_data"
    },
    {
     "data": {
      "text/markdown": [
       "<span style=\"color:#33cc33\">Correct</span>"
      ],
      "text/plain": [
       "Correct"
      ]
     },
     "metadata": {},
     "output_type": "display_data"
    }
   ],
   "source": [
    "# You imported DecisionTreeRegressor in your last exercise\n",
    "# and that code has been copied to the setup code above. So, no need to\n",
    "# import it again\n",
    "\n",
    "# Specify the model\n",
    "iowa_model = DecisionTreeRegressor(random_state=1)\n",
    "\n",
    "# Fit iowa_model with the training data.\n",
    "iowa_model.fit(train_X, train_y)\n",
    "\n",
    "# Check your answer\n",
    "step_2.check()"
   ]
  },
  {
   "cell_type": "code",
   "execution_count": 5,
   "id": "particular-champion",
   "metadata": {
    "execution": {
     "iopub.execute_input": "2021-05-09T07:36:10.872468Z",
     "iopub.status.busy": "2021-05-09T07:36:10.871926Z",
     "iopub.status.idle": "2021-05-09T07:36:10.876175Z",
     "shell.execute_reply": "2021-05-09T07:36:10.876596Z"
    },
    "papermill": {
     "duration": 0.020761,
     "end_time": "2021-05-09T07:36:10.876763",
     "exception": false,
     "start_time": "2021-05-09T07:36:10.856002",
     "status": "completed"
    },
    "tags": []
   },
   "outputs": [],
   "source": [
    "# step_2.hint()\n",
    "# step_2.solution()"
   ]
  },
  {
   "cell_type": "markdown",
   "id": "interracial-collapse",
   "metadata": {
    "papermill": {
     "duration": 0.012352,
     "end_time": "2021-05-09T07:36:10.902663",
     "exception": false,
     "start_time": "2021-05-09T07:36:10.890311",
     "status": "completed"
    },
    "tags": []
   },
   "source": [
    "## Step 3: Make Predictions with Validation data\n"
   ]
  },
  {
   "cell_type": "code",
   "execution_count": 6,
   "id": "composite-temperature",
   "metadata": {
    "execution": {
     "iopub.execute_input": "2021-05-09T07:36:10.931854Z",
     "iopub.status.busy": "2021-05-09T07:36:10.931312Z",
     "iopub.status.idle": "2021-05-09T07:36:10.943600Z",
     "shell.execute_reply": "2021-05-09T07:36:10.944011Z"
    },
    "papermill": {
     "duration": 0.028891,
     "end_time": "2021-05-09T07:36:10.944158",
     "exception": false,
     "start_time": "2021-05-09T07:36:10.915267",
     "status": "completed"
    },
    "tags": []
   },
   "outputs": [
    {
     "data": {
      "application/javascript": [
       "parent.postMessage({\"jupyterEvent\": \"custom.exercise_interaction\", \"data\": {\"outcomeType\": 1, \"valueTowardsCompletion\": 0.25, \"interactionType\": 1, \"questionType\": 2, \"questionId\": \"3_ValPreds\", \"learnToolsVersion\": \"0.3.4\", \"failureMessage\": \"\", \"exceptionClass\": \"\", \"trace\": \"\"}}, \"*\")"
      ],
      "text/plain": [
       "<IPython.core.display.Javascript object>"
      ]
     },
     "metadata": {},
     "output_type": "display_data"
    },
    {
     "data": {
      "text/markdown": [
       "<span style=\"color:#33cc33\">Correct</span>"
      ],
      "text/plain": [
       "Correct"
      ]
     },
     "metadata": {},
     "output_type": "display_data"
    }
   ],
   "source": [
    "# Predict with all validation observations\n",
    "val_predictions = iowa_model.predict(val_X)\n",
    "\n",
    "# Check your answer\n",
    "step_3.check()"
   ]
  },
  {
   "cell_type": "code",
   "execution_count": 7,
   "id": "ecological-tuition",
   "metadata": {
    "execution": {
     "iopub.execute_input": "2021-05-09T07:36:10.977782Z",
     "iopub.status.busy": "2021-05-09T07:36:10.977272Z",
     "iopub.status.idle": "2021-05-09T07:36:10.982692Z",
     "shell.execute_reply": "2021-05-09T07:36:10.982216Z"
    },
    "papermill": {
     "duration": 0.025169,
     "end_time": "2021-05-09T07:36:10.982824",
     "exception": false,
     "start_time": "2021-05-09T07:36:10.957655",
     "status": "completed"
    },
    "tags": []
   },
   "outputs": [],
   "source": [
    "# step_3.hint()\n",
    "# step_3.solution()"
   ]
  },
  {
   "cell_type": "markdown",
   "id": "nonprofit-reader",
   "metadata": {
    "papermill": {
     "duration": 0.015374,
     "end_time": "2021-05-09T07:36:11.011839",
     "exception": false,
     "start_time": "2021-05-09T07:36:10.996465",
     "status": "completed"
    },
    "tags": []
   },
   "source": [
    "Inspect your predictions and actual values from validation data."
   ]
  },
  {
   "cell_type": "code",
   "execution_count": 8,
   "id": "distinct-geometry",
   "metadata": {
    "execution": {
     "iopub.execute_input": "2021-05-09T07:36:11.048335Z",
     "iopub.status.busy": "2021-05-09T07:36:11.047799Z",
     "iopub.status.idle": "2021-05-09T07:36:11.060188Z",
     "shell.execute_reply": "2021-05-09T07:36:11.059717Z"
    },
    "papermill": {
     "duration": 0.033753,
     "end_time": "2021-05-09T07:36:11.060311",
     "exception": false,
     "start_time": "2021-05-09T07:36:11.026558",
     "status": "completed"
    },
    "tags": []
   },
   "outputs": [
    {
     "name": "stdout",
     "output_type": "stream",
     "text": [
      "[186500. 184000. 130000.  92000. 164500.]\n",
      "      LotArea  YearBuilt  1stFlrSF  2ndFlrSF  FullBath  BedroomAbvGr  \\\n",
      "258     12435       2001       963       829         2             3   \n",
      "267      8400       1939      1052       720         2             4   \n",
      "288      9819       1967       900         0         1             3   \n",
      "649      1936       1970       630         0         1             1   \n",
      "1233    12160       1959      1188         0         1             3   \n",
      "\n",
      "      TotRmsAbvGrd  \n",
      "258              7  \n",
      "267              8  \n",
      "288              5  \n",
      "649              3  \n",
      "1233             6  \n"
     ]
    }
   ],
   "source": [
    "# print the top few validation predictions\n",
    "print(val_predictions[:5])\n",
    "# print the top few actual prices from validation data\n",
    "print(val_X[:5])"
   ]
  },
  {
   "cell_type": "markdown",
   "id": "introductory-jimmy",
   "metadata": {
    "papermill": {
     "duration": 0.014034,
     "end_time": "2021-05-09T07:36:11.089366",
     "exception": false,
     "start_time": "2021-05-09T07:36:11.075332",
     "status": "completed"
    },
    "tags": []
   },
   "source": [
    "What do you notice that is different from what you saw with in-sample predictions (which are printed after the top code cell in this page).\n",
    "\n",
    "Do you remember why validation predictions differ from in-sample (or training) predictions? This is an important idea from the last lesson.\n",
    "\n",
    "## Step 4: Calculate the Mean Absolute Error in Validation Data\n"
   ]
  },
  {
   "cell_type": "code",
   "execution_count": 9,
   "id": "hidden-subdivision",
   "metadata": {
    "execution": {
     "iopub.execute_input": "2021-05-09T07:36:11.124429Z",
     "iopub.status.busy": "2021-05-09T07:36:11.123711Z",
     "iopub.status.idle": "2021-05-09T07:36:11.131163Z",
     "shell.execute_reply": "2021-05-09T07:36:11.130669Z"
    },
    "papermill": {
     "duration": 0.027318,
     "end_time": "2021-05-09T07:36:11.131288",
     "exception": false,
     "start_time": "2021-05-09T07:36:11.103970",
     "status": "completed"
    },
    "tags": []
   },
   "outputs": [
    {
     "data": {
      "application/javascript": [
       "parent.postMessage({\"jupyterEvent\": \"custom.exercise_interaction\", \"data\": {\"outcomeType\": 1, \"valueTowardsCompletion\": 0.25, \"interactionType\": 1, \"questionType\": 1, \"questionId\": \"4_MAE\", \"learnToolsVersion\": \"0.3.4\", \"failureMessage\": \"\", \"exceptionClass\": \"\", \"trace\": \"\"}}, \"*\")"
      ],
      "text/plain": [
       "<IPython.core.display.Javascript object>"
      ]
     },
     "metadata": {},
     "output_type": "display_data"
    },
    {
     "data": {
      "text/markdown": [
       "<span style=\"color:#33cc33\">Correct</span>"
      ],
      "text/plain": [
       "Correct"
      ]
     },
     "metadata": {},
     "output_type": "display_data"
    }
   ],
   "source": [
    "from sklearn.metrics import mean_absolute_error\n",
    "val_mae = mean_absolute_error(val_predictions, val_y)\n",
    "\n",
    "# uncomment following line to see the validation_mae\n",
    "#print(val_mae)\n",
    "\n",
    "# Check your answer\n",
    "step_4.check()"
   ]
  },
  {
   "cell_type": "code",
   "execution_count": 10,
   "id": "magnetic-satisfaction",
   "metadata": {
    "execution": {
     "iopub.execute_input": "2021-05-09T07:36:11.167070Z",
     "iopub.status.busy": "2021-05-09T07:36:11.166470Z",
     "iopub.status.idle": "2021-05-09T07:36:11.169503Z",
     "shell.execute_reply": "2021-05-09T07:36:11.169936Z"
    },
    "papermill": {
     "duration": 0.02325,
     "end_time": "2021-05-09T07:36:11.170102",
     "exception": false,
     "start_time": "2021-05-09T07:36:11.146852",
     "status": "completed"
    },
    "tags": []
   },
   "outputs": [],
   "source": [
    "# step_4.hint()\n",
    "# step_4.solution()"
   ]
  },
  {
   "cell_type": "markdown",
   "id": "adopted-belize",
   "metadata": {
    "papermill": {
     "duration": 0.015033,
     "end_time": "2021-05-09T07:36:11.201235",
     "exception": false,
     "start_time": "2021-05-09T07:36:11.186202",
     "status": "completed"
    },
    "tags": []
   },
   "source": [
    "Is that MAE good?  There isn't a general rule for what values are good that applies across applications. But you'll see how to use (and improve) this number in the next step.\n",
    "\n",
    "# Keep Going\n",
    "\n",
    "You are ready for **[Underfitting and Overfitting](https://www.kaggle.com/dansbecker/underfitting-and-overfitting).**\n"
   ]
  },
  {
   "cell_type": "markdown",
   "id": "aggressive-workplace",
   "metadata": {
    "papermill": {
     "duration": 0.016025,
     "end_time": "2021-05-09T07:36:11.233248",
     "exception": false,
     "start_time": "2021-05-09T07:36:11.217223",
     "status": "completed"
    },
    "tags": []
   },
   "source": [
    "---\n",
    "\n",
    "\n",
    "\n",
    "\n",
    "*Have questions or comments? Visit the [Learn Discussion forum](https://www.kaggle.com/learn-forum/161285) to chat with other Learners.*"
   ]
  }
 ],
 "metadata": {
  "kernelspec": {
   "display_name": "Python 3",
   "language": "python",
   "name": "python3"
  },
  "language_info": {
   "codemirror_mode": {
    "name": "ipython",
    "version": 3
   },
   "file_extension": ".py",
   "mimetype": "text/x-python",
   "name": "python",
   "nbconvert_exporter": "python",
   "pygments_lexer": "ipython3",
   "version": "3.7.9"
  },
  "papermill": {
   "default_parameters": {},
   "duration": 11.289824,
   "end_time": "2021-05-09T07:36:11.960602",
   "environment_variables": {},
   "exception": null,
   "input_path": "__notebook__.ipynb",
   "output_path": "__notebook__.ipynb",
   "parameters": {},
   "start_time": "2021-05-09T07:36:00.670778",
   "version": "2.3.2"
  }
 },
 "nbformat": 4,
 "nbformat_minor": 5
}
