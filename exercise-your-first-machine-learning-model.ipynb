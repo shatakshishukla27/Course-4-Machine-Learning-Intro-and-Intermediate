{
 "cells": [
  {
   "cell_type": "markdown",
   "id": "approximate-diabetes",
   "metadata": {
    "papermill": {
     "duration": 0.014644,
     "end_time": "2021-05-09T07:28:16.088143",
     "exception": false,
     "start_time": "2021-05-09T07:28:16.073499",
     "status": "completed"
    },
    "tags": []
   },
   "source": [
    "**This notebook is an exercise in the [Introduction to Machine Learning](https://www.kaggle.com/learn/intro-to-machine-learning) course.  You can reference the tutorial at [this link](https://www.kaggle.com/dansbecker/your-first-machine-learning-model).**\n",
    "\n",
    "---\n"
   ]
  },
  {
   "cell_type": "markdown",
   "id": "signed-persian",
   "metadata": {
    "papermill": {
     "duration": 0.013834,
     "end_time": "2021-05-09T07:28:16.116834",
     "exception": false,
     "start_time": "2021-05-09T07:28:16.103000",
     "status": "completed"
    },
    "tags": []
   },
   "source": [
    "## Recap\n",
    "So far, you have loaded your data and reviewed it with the following code. Run this cell to set up your coding environment where the previous step left off."
   ]
  },
  {
   "cell_type": "code",
   "execution_count": 1,
   "id": "fundamental-finance",
   "metadata": {
    "execution": {
     "iopub.execute_input": "2021-05-09T07:28:16.151885Z",
     "iopub.status.busy": "2021-05-09T07:28:16.151136Z",
     "iopub.status.idle": "2021-05-09T07:28:17.697772Z",
     "shell.execute_reply": "2021-05-09T07:28:17.698983Z"
    },
    "papermill": {
     "duration": 1.568665,
     "end_time": "2021-05-09T07:28:17.699356",
     "exception": false,
     "start_time": "2021-05-09T07:28:16.130691",
     "status": "completed"
    },
    "tags": []
   },
   "outputs": [
    {
     "name": "stdout",
     "output_type": "stream",
     "text": [
      "Setup Complete\n"
     ]
    }
   ],
   "source": [
    "# Code you have previously used to load data\n",
    "import pandas as pd\n",
    "\n",
    "# Path of the file to read\n",
    "iowa_file_path = '../input/home-data-for-ml-course/train.csv'\n",
    "\n",
    "home_data = pd.read_csv(iowa_file_path)\n",
    "\n",
    "# Set up code checking\n",
    "from learntools.core import binder\n",
    "binder.bind(globals())\n",
    "from learntools.machine_learning.ex3 import *\n",
    "\n",
    "print(\"Setup Complete\")"
   ]
  },
  {
   "cell_type": "markdown",
   "id": "floppy-composer",
   "metadata": {
    "papermill": {
     "duration": 0.014334,
     "end_time": "2021-05-09T07:28:17.730083",
     "exception": false,
     "start_time": "2021-05-09T07:28:17.715749",
     "status": "completed"
    },
    "tags": []
   },
   "source": [
    "# Exercises\n",
    "\n",
    "## Step 1: Specify Prediction Target\n",
    "Select the target variable, which corresponds to the sales price. Save this to a new variable called `y`. You'll need to print a list of the columns to find the name of the column you need.\n"
   ]
  },
  {
   "cell_type": "code",
   "execution_count": 2,
   "id": "owned-simple",
   "metadata": {
    "execution": {
     "iopub.execute_input": "2021-05-09T07:28:17.767324Z",
     "iopub.status.busy": "2021-05-09T07:28:17.766552Z",
     "iopub.status.idle": "2021-05-09T07:28:17.769556Z",
     "shell.execute_reply": "2021-05-09T07:28:17.770168Z"
    },
    "papermill": {
     "duration": 0.026079,
     "end_time": "2021-05-09T07:28:17.770364",
     "exception": false,
     "start_time": "2021-05-09T07:28:17.744285",
     "status": "completed"
    },
    "tags": []
   },
   "outputs": [
    {
     "data": {
      "text/plain": [
       "Index(['Id', 'MSSubClass', 'MSZoning', 'LotFrontage', 'LotArea', 'Street',\n",
       "       'Alley', 'LotShape', 'LandContour', 'Utilities', 'LotConfig',\n",
       "       'LandSlope', 'Neighborhood', 'Condition1', 'Condition2', 'BldgType',\n",
       "       'HouseStyle', 'OverallQual', 'OverallCond', 'YearBuilt', 'YearRemodAdd',\n",
       "       'RoofStyle', 'RoofMatl', 'Exterior1st', 'Exterior2nd', 'MasVnrType',\n",
       "       'MasVnrArea', 'ExterQual', 'ExterCond', 'Foundation', 'BsmtQual',\n",
       "       'BsmtCond', 'BsmtExposure', 'BsmtFinType1', 'BsmtFinSF1',\n",
       "       'BsmtFinType2', 'BsmtFinSF2', 'BsmtUnfSF', 'TotalBsmtSF', 'Heating',\n",
       "       'HeatingQC', 'CentralAir', 'Electrical', '1stFlrSF', '2ndFlrSF',\n",
       "       'LowQualFinSF', 'GrLivArea', 'BsmtFullBath', 'BsmtHalfBath', 'FullBath',\n",
       "       'HalfBath', 'BedroomAbvGr', 'KitchenAbvGr', 'KitchenQual',\n",
       "       'TotRmsAbvGrd', 'Functional', 'Fireplaces', 'FireplaceQu', 'GarageType',\n",
       "       'GarageYrBlt', 'GarageFinish', 'GarageCars', 'GarageArea', 'GarageQual',\n",
       "       'GarageCond', 'PavedDrive', 'WoodDeckSF', 'OpenPorchSF',\n",
       "       'EnclosedPorch', '3SsnPorch', 'ScreenPorch', 'PoolArea', 'PoolQC',\n",
       "       'Fence', 'MiscFeature', 'MiscVal', 'MoSold', 'YrSold', 'SaleType',\n",
       "       'SaleCondition', 'SalePrice'],\n",
       "      dtype='object')"
      ]
     },
     "execution_count": 2,
     "metadata": {},
     "output_type": "execute_result"
    }
   ],
   "source": [
    "# print the list of columns in the dataset to find the name of the prediction target\n",
    "home_data.columns"
   ]
  },
  {
   "cell_type": "code",
   "execution_count": 3,
   "id": "african-transport",
   "metadata": {
    "execution": {
     "iopub.execute_input": "2021-05-09T07:28:17.803062Z",
     "iopub.status.busy": "2021-05-09T07:28:17.802405Z",
     "iopub.status.idle": "2021-05-09T07:28:17.820936Z",
     "shell.execute_reply": "2021-05-09T07:28:17.820379Z"
    },
    "papermill": {
     "duration": 0.036055,
     "end_time": "2021-05-09T07:28:17.821094",
     "exception": false,
     "start_time": "2021-05-09T07:28:17.785039",
     "status": "completed"
    },
    "tags": []
   },
   "outputs": [
    {
     "data": {
      "application/javascript": [
       "parent.postMessage({\"jupyterEvent\": \"custom.exercise_interaction\", \"data\": {\"outcomeType\": 1, \"valueTowardsCompletion\": 0.25, \"interactionType\": 1, \"questionType\": 2, \"questionId\": \"1_SetTarget\", \"learnToolsVersion\": \"0.3.4\", \"failureMessage\": \"\", \"exceptionClass\": \"\", \"trace\": \"\"}}, \"*\")"
      ],
      "text/plain": [
       "<IPython.core.display.Javascript object>"
      ]
     },
     "metadata": {},
     "output_type": "display_data"
    },
    {
     "data": {
      "text/markdown": [
       "<span style=\"color:#33cc33\">Correct</span>"
      ],
      "text/plain": [
       "Correct"
      ]
     },
     "metadata": {},
     "output_type": "display_data"
    }
   ],
   "source": [
    "y = home_data.SalePrice\n",
    "\n",
    "# Check your answer\n",
    "step_1.check()"
   ]
  },
  {
   "cell_type": "code",
   "execution_count": 4,
   "id": "brave-hierarchy",
   "metadata": {
    "execution": {
     "iopub.execute_input": "2021-05-09T07:28:17.859297Z",
     "iopub.status.busy": "2021-05-09T07:28:17.858557Z",
     "iopub.status.idle": "2021-05-09T07:28:17.863105Z",
     "shell.execute_reply": "2021-05-09T07:28:17.862406Z"
    },
    "papermill": {
     "duration": 0.025881,
     "end_time": "2021-05-09T07:28:17.863271",
     "exception": false,
     "start_time": "2021-05-09T07:28:17.837390",
     "status": "completed"
    },
    "tags": []
   },
   "outputs": [],
   "source": [
    "# The lines below will show you a hint or the solution.\n",
    "# step_1.hint() \n",
    "# step_1.solution()"
   ]
  },
  {
   "cell_type": "markdown",
   "id": "available-episode",
   "metadata": {
    "papermill": {
     "duration": 0.016845,
     "end_time": "2021-05-09T07:28:17.897327",
     "exception": false,
     "start_time": "2021-05-09T07:28:17.880482",
     "status": "completed"
    },
    "tags": []
   },
   "source": [
    "## Step 2: Create X\n",
    "Now you will create a DataFrame called `X` holding the predictive features.\n",
    "\n",
    "Since you want only some columns from the original data, you'll first create a list with the names of the columns you want in `X`.\n",
    "\n",
    "You'll use just the following columns in the list (you can copy and paste the whole list to save some typing, though you'll still need to add quotes):\n",
    "    * LotArea\n",
    "    * YearBuilt\n",
    "    * 1stFlrSF\n",
    "    * 2ndFlrSF\n",
    "    * FullBath\n",
    "    * BedroomAbvGr\n",
    "    * TotRmsAbvGrd\n",
    "\n",
    "After you've created that list of features, use it to create the DataFrame that you'll use to fit the model."
   ]
  },
  {
   "cell_type": "code",
   "execution_count": 5,
   "id": "stuffed-listing",
   "metadata": {
    "execution": {
     "iopub.execute_input": "2021-05-09T07:28:17.940247Z",
     "iopub.status.busy": "2021-05-09T07:28:17.939547Z",
     "iopub.status.idle": "2021-05-09T07:28:17.946943Z",
     "shell.execute_reply": "2021-05-09T07:28:17.946352Z"
    },
    "papermill": {
     "duration": 0.033674,
     "end_time": "2021-05-09T07:28:17.947100",
     "exception": false,
     "start_time": "2021-05-09T07:28:17.913426",
     "status": "completed"
    },
    "tags": []
   },
   "outputs": [
    {
     "data": {
      "application/javascript": [
       "parent.postMessage({\"jupyterEvent\": \"custom.exercise_interaction\", \"data\": {\"outcomeType\": 1, \"valueTowardsCompletion\": 0.25, \"interactionType\": 1, \"questionType\": 2, \"questionId\": \"2_SelectPredictionData\", \"learnToolsVersion\": \"0.3.4\", \"failureMessage\": \"\", \"exceptionClass\": \"\", \"trace\": \"\"}}, \"*\")"
      ],
      "text/plain": [
       "<IPython.core.display.Javascript object>"
      ]
     },
     "metadata": {},
     "output_type": "display_data"
    },
    {
     "data": {
      "text/markdown": [
       "<span style=\"color:#33cc33\">Correct</span>"
      ],
      "text/plain": [
       "Correct"
      ]
     },
     "metadata": {},
     "output_type": "display_data"
    }
   ],
   "source": [
    "# Create the list of features below\n",
    "feature_names = [\"LotArea\", \"YearBuilt\", \"1stFlrSF\", \"2ndFlrSF\",\n",
    "                      \"FullBath\", \"BedroomAbvGr\", \"TotRmsAbvGrd\"]\n",
    "\n",
    "# Select data corresponding to features in feature_names\n",
    "X=home_data[feature_names]\n",
    "\n",
    "# Check your answer\n",
    "step_2.check()"
   ]
  },
  {
   "cell_type": "code",
   "execution_count": 6,
   "id": "robust-injury",
   "metadata": {
    "execution": {
     "iopub.execute_input": "2021-05-09T07:28:17.988297Z",
     "iopub.status.busy": "2021-05-09T07:28:17.987283Z",
     "iopub.status.idle": "2021-05-09T07:28:17.991277Z",
     "shell.execute_reply": "2021-05-09T07:28:17.990524Z"
    },
    "papermill": {
     "duration": 0.026196,
     "end_time": "2021-05-09T07:28:17.991454",
     "exception": false,
     "start_time": "2021-05-09T07:28:17.965258",
     "status": "completed"
    },
    "tags": []
   },
   "outputs": [],
   "source": [
    "# step_2.hint()\n",
    "# step_2.solution()"
   ]
  },
  {
   "cell_type": "markdown",
   "id": "instrumental-logging",
   "metadata": {
    "papermill": {
     "duration": 0.018226,
     "end_time": "2021-05-09T07:28:18.028207",
     "exception": false,
     "start_time": "2021-05-09T07:28:18.009981",
     "status": "completed"
    },
    "tags": []
   },
   "source": [
    "## Review Data\n",
    "Before building a model, take a quick look at **X** to verify it looks sensible"
   ]
  },
  {
   "cell_type": "code",
   "execution_count": 7,
   "id": "becoming-estimate",
   "metadata": {
    "execution": {
     "iopub.execute_input": "2021-05-09T07:28:18.074786Z",
     "iopub.status.busy": "2021-05-09T07:28:18.074082Z",
     "iopub.status.idle": "2021-05-09T07:28:18.106937Z",
     "shell.execute_reply": "2021-05-09T07:28:18.105805Z"
    },
    "papermill": {
     "duration": 0.060357,
     "end_time": "2021-05-09T07:28:18.107256",
     "exception": false,
     "start_time": "2021-05-09T07:28:18.046899",
     "status": "completed"
    },
    "tags": []
   },
   "outputs": [
    {
     "name": "stdout",
     "output_type": "stream",
     "text": [
      "             LotArea    YearBuilt     1stFlrSF     2ndFlrSF     FullBath  \\\n",
      "count    1460.000000  1460.000000  1460.000000  1460.000000  1460.000000   \n",
      "mean    10516.828082  1971.267808  1162.626712   346.992466     1.565068   \n",
      "std      9981.264932    30.202904   386.587738   436.528436     0.550916   \n",
      "min      1300.000000  1872.000000   334.000000     0.000000     0.000000   \n",
      "25%      7553.500000  1954.000000   882.000000     0.000000     1.000000   \n",
      "50%      9478.500000  1973.000000  1087.000000     0.000000     2.000000   \n",
      "75%     11601.500000  2000.000000  1391.250000   728.000000     2.000000   \n",
      "max    215245.000000  2010.000000  4692.000000  2065.000000     3.000000   \n",
      "\n",
      "       BedroomAbvGr  TotRmsAbvGrd  \n",
      "count   1460.000000   1460.000000  \n",
      "mean       2.866438      6.517808  \n",
      "std        0.815778      1.625393  \n",
      "min        0.000000      2.000000  \n",
      "25%        2.000000      5.000000  \n",
      "50%        3.000000      6.000000  \n",
      "75%        3.000000      7.000000  \n",
      "max        8.000000     14.000000  \n",
      "   LotArea  YearBuilt  1stFlrSF  2ndFlrSF  FullBath  BedroomAbvGr  \\\n",
      "0     8450       2003       856       854         2             3   \n",
      "1     9600       1976      1262         0         2             3   \n",
      "2    11250       2001       920       866         2             3   \n",
      "3     9550       1915       961       756         1             3   \n",
      "4    14260       2000      1145      1053         2             4   \n",
      "\n",
      "   TotRmsAbvGrd  \n",
      "0             8  \n",
      "1             6  \n",
      "2             6  \n",
      "3             7  \n",
      "4             9  \n"
     ]
    }
   ],
   "source": [
    "# Review data\n",
    "# print description or statistics from X\n",
    "print(X.describe())\n",
    "\n",
    "# print the top few lines\n",
    "print(X.head())"
   ]
  },
  {
   "cell_type": "markdown",
   "id": "personal-surgery",
   "metadata": {
    "papermill": {
     "duration": 0.018158,
     "end_time": "2021-05-09T07:28:18.144500",
     "exception": false,
     "start_time": "2021-05-09T07:28:18.126342",
     "status": "completed"
    },
    "tags": []
   },
   "source": [
    "## Step 3: Specify and Fit Model\n",
    "Create a `DecisionTreeRegressor` and save it iowa_model. Ensure you've done the relevant import from sklearn to run this command.\n",
    "\n",
    "Then fit the model you just created using the data in `X` and `y` that you saved above."
   ]
  },
  {
   "cell_type": "code",
   "execution_count": 8,
   "id": "described-malpractice",
   "metadata": {
    "execution": {
     "iopub.execute_input": "2021-05-09T07:28:18.190511Z",
     "iopub.status.busy": "2021-05-09T07:28:18.189753Z",
     "iopub.status.idle": "2021-05-09T07:28:18.203498Z",
     "shell.execute_reply": "2021-05-09T07:28:18.202894Z"
    },
    "papermill": {
     "duration": 0.040609,
     "end_time": "2021-05-09T07:28:18.203690",
     "exception": false,
     "start_time": "2021-05-09T07:28:18.163081",
     "status": "completed"
    },
    "tags": []
   },
   "outputs": [
    {
     "data": {
      "application/javascript": [
       "parent.postMessage({\"jupyterEvent\": \"custom.exercise_interaction\", \"data\": {\"outcomeType\": 1, \"valueTowardsCompletion\": 0.25, \"interactionType\": 1, \"questionType\": 2, \"questionId\": \"3_CreateModel\", \"learnToolsVersion\": \"0.3.4\", \"failureMessage\": \"\", \"exceptionClass\": \"\", \"trace\": \"\"}}, \"*\")"
      ],
      "text/plain": [
       "<IPython.core.display.Javascript object>"
      ]
     },
     "metadata": {},
     "output_type": "display_data"
    },
    {
     "data": {
      "text/markdown": [
       "<span style=\"color:#33cc33\">Correct</span>"
      ],
      "text/plain": [
       "Correct"
      ]
     },
     "metadata": {},
     "output_type": "display_data"
    }
   ],
   "source": [
    "from sklearn.tree import DecisionTreeRegressor\n",
    "\n",
    "#specify the model. \n",
    "#For model reproducibility, set a numeric value for random_state when specifying the model\n",
    "iowa_model = DecisionTreeRegressor(random_state=10)\n",
    "\n",
    "# Fit the model\n",
    "iowa_model.fit(X, y)\n",
    "\n",
    "# Check your answer\n",
    "step_3.check()"
   ]
  },
  {
   "cell_type": "code",
   "execution_count": 9,
   "id": "vital-restaurant",
   "metadata": {
    "execution": {
     "iopub.execute_input": "2021-05-09T07:28:18.246818Z",
     "iopub.status.busy": "2021-05-09T07:28:18.245845Z",
     "iopub.status.idle": "2021-05-09T07:28:18.249249Z",
     "shell.execute_reply": "2021-05-09T07:28:18.248585Z"
    },
    "papermill": {
     "duration": 0.026764,
     "end_time": "2021-05-09T07:28:18.249399",
     "exception": false,
     "start_time": "2021-05-09T07:28:18.222635",
     "status": "completed"
    },
    "tags": []
   },
   "outputs": [],
   "source": [
    "# step_3.hint()\n",
    "# step_3.solution()"
   ]
  },
  {
   "cell_type": "markdown",
   "id": "international-setting",
   "metadata": {
    "papermill": {
     "duration": 0.019268,
     "end_time": "2021-05-09T07:28:18.288105",
     "exception": false,
     "start_time": "2021-05-09T07:28:18.268837",
     "status": "completed"
    },
    "tags": []
   },
   "source": [
    "## Step 4: Make Predictions\n",
    "Make predictions with the model's `predict` command using `X` as the data. Save the results to a variable called `predictions`."
   ]
  },
  {
   "cell_type": "code",
   "execution_count": 10,
   "id": "incident-resident",
   "metadata": {
    "execution": {
     "iopub.execute_input": "2021-05-09T07:28:18.337407Z",
     "iopub.status.busy": "2021-05-09T07:28:18.336445Z",
     "iopub.status.idle": "2021-05-09T07:28:18.344815Z",
     "shell.execute_reply": "2021-05-09T07:28:18.344160Z"
    },
    "papermill": {
     "duration": 0.036579,
     "end_time": "2021-05-09T07:28:18.344976",
     "exception": false,
     "start_time": "2021-05-09T07:28:18.308397",
     "status": "completed"
    },
    "tags": []
   },
   "outputs": [
    {
     "name": "stdout",
     "output_type": "stream",
     "text": [
      "[208500. 181500. 223500. ... 266500. 142125. 147500.]\n"
     ]
    },
    {
     "data": {
      "application/javascript": [
       "parent.postMessage({\"jupyterEvent\": \"custom.exercise_interaction\", \"data\": {\"outcomeType\": 1, \"valueTowardsCompletion\": 0.25, \"interactionType\": 1, \"questionType\": 2, \"questionId\": \"4_MakePredictions\", \"learnToolsVersion\": \"0.3.4\", \"failureMessage\": \"\", \"exceptionClass\": \"\", \"trace\": \"\"}}, \"*\")"
      ],
      "text/plain": [
       "<IPython.core.display.Javascript object>"
      ]
     },
     "metadata": {},
     "output_type": "display_data"
    },
    {
     "data": {
      "text/markdown": [
       "<span style=\"color:#33cc33\">Correct</span>"
      ],
      "text/plain": [
       "Correct"
      ]
     },
     "metadata": {},
     "output_type": "display_data"
    }
   ],
   "source": [
    "predictions = iowa_model.predict(X)\n",
    "print(predictions)\n",
    "\n",
    "# Check your answer\n",
    "step_4.check()"
   ]
  },
  {
   "cell_type": "code",
   "execution_count": 11,
   "id": "experienced-climate",
   "metadata": {
    "execution": {
     "iopub.execute_input": "2021-05-09T07:28:18.391421Z",
     "iopub.status.busy": "2021-05-09T07:28:18.390655Z",
     "iopub.status.idle": "2021-05-09T07:28:18.394622Z",
     "shell.execute_reply": "2021-05-09T07:28:18.393927Z"
    },
    "papermill": {
     "duration": 0.028281,
     "end_time": "2021-05-09T07:28:18.394774",
     "exception": false,
     "start_time": "2021-05-09T07:28:18.366493",
     "status": "completed"
    },
    "tags": []
   },
   "outputs": [],
   "source": [
    "# step_4.hint()\n",
    "# step_4.solution()"
   ]
  },
  {
   "cell_type": "markdown",
   "id": "turkish-works",
   "metadata": {
    "papermill": {
     "duration": 0.02038,
     "end_time": "2021-05-09T07:28:18.437117",
     "exception": false,
     "start_time": "2021-05-09T07:28:18.416737",
     "status": "completed"
    },
    "tags": []
   },
   "source": [
    "## Think About Your Results\n",
    "\n",
    "Use the `head` method to compare the top few predictions to the actual home values (in `y`) for those same homes. Anything surprising?\n"
   ]
  },
  {
   "cell_type": "code",
   "execution_count": 12,
   "id": "ranking-dress",
   "metadata": {
    "execution": {
     "iopub.execute_input": "2021-05-09T07:28:18.485625Z",
     "iopub.status.busy": "2021-05-09T07:28:18.484834Z",
     "iopub.status.idle": "2021-05-09T07:28:18.487630Z",
     "shell.execute_reply": "2021-05-09T07:28:18.488259Z"
    },
    "papermill": {
     "duration": 0.030005,
     "end_time": "2021-05-09T07:28:18.488440",
     "exception": false,
     "start_time": "2021-05-09T07:28:18.458435",
     "status": "completed"
    },
    "tags": []
   },
   "outputs": [
    {
     "name": "stdout",
     "output_type": "stream",
     "text": [
      "[208500. 181500. 223500. 140000. 250000. 143000. 307000. 200000. 129900.\n",
      " 118000.]\n",
      "0    208500\n",
      "1    181500\n",
      "2    223500\n",
      "3    140000\n",
      "4    250000\n",
      "5    143000\n",
      "6    307000\n",
      "7    200000\n",
      "8    129900\n",
      "9    118000\n",
      "Name: SalePrice, dtype: int64\n"
     ]
    }
   ],
   "source": [
    "# You can write code in this cell\n",
    "print(predictions[:10])\n",
    "print(y[:10])"
   ]
  },
  {
   "cell_type": "markdown",
   "id": "gothic-essex",
   "metadata": {
    "papermill": {
     "duration": 0.020547,
     "end_time": "2021-05-09T07:28:18.530115",
     "exception": false,
     "start_time": "2021-05-09T07:28:18.509568",
     "status": "completed"
    },
    "tags": []
   },
   "source": [
    "It's natural to ask how accurate the model's predictions will be and how you can improve that. That will be you're next step.\n",
    "\n",
    "# Keep Going\n",
    "\n",
    "You are ready for **[Model Validation](https://www.kaggle.com/dansbecker/model-validation).**\n"
   ]
  },
  {
   "cell_type": "markdown",
   "id": "super-monaco",
   "metadata": {
    "papermill": {
     "duration": 0.021128,
     "end_time": "2021-05-09T07:28:18.573983",
     "exception": false,
     "start_time": "2021-05-09T07:28:18.552855",
     "status": "completed"
    },
    "tags": []
   },
   "source": [
    "---\n",
    "\n",
    "\n",
    "\n",
    "\n",
    "*Have questions or comments? Visit the [Learn Discussion forum](https://www.kaggle.com/learn-forum/161285) to chat with other Learners.*"
   ]
  }
 ],
 "metadata": {
  "kernelspec": {
   "display_name": "Python 3",
   "language": "python",
   "name": "python3"
  },
  "language_info": {
   "codemirror_mode": {
    "name": "ipython",
    "version": 3
   },
   "file_extension": ".py",
   "mimetype": "text/x-python",
   "name": "python",
   "nbconvert_exporter": "python",
   "pygments_lexer": "ipython3",
   "version": "3.7.9"
  },
  "papermill": {
   "default_parameters": {},
   "duration": 10.517164,
   "end_time": "2021-05-09T07:28:19.305652",
   "environment_variables": {},
   "exception": null,
   "input_path": "__notebook__.ipynb",
   "output_path": "__notebook__.ipynb",
   "parameters": {},
   "start_time": "2021-05-09T07:28:08.788488",
   "version": "2.3.2"
  }
 },
 "nbformat": 4,
 "nbformat_minor": 5
}
