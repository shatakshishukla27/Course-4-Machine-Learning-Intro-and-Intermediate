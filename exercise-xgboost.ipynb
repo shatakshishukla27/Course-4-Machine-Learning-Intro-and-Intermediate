{
 "cells": [
  {
   "cell_type": "markdown",
   "id": "union-pastor",
   "metadata": {
    "papermill": {
     "duration": 0.015028,
     "end_time": "2021-05-09T08:12:26.661155",
     "exception": false,
     "start_time": "2021-05-09T08:12:26.646127",
     "status": "completed"
    },
    "tags": []
   },
   "source": [
    "**This notebook is an exercise in the [Intermediate Machine Learning](https://www.kaggle.com/learn/intermediate-machine-learning) course.  You can reference the tutorial at [this link](https://www.kaggle.com/alexisbcook/xgboost).**\n",
    "\n",
    "---\n"
   ]
  },
  {
   "cell_type": "markdown",
   "id": "important-fitting",
   "metadata": {
    "papermill": {
     "duration": 0.015539,
     "end_time": "2021-05-09T08:12:26.690657",
     "exception": false,
     "start_time": "2021-05-09T08:12:26.675118",
     "status": "completed"
    },
    "tags": []
   },
   "source": [
    "In this exercise, you will use your new knowledge to train a model with **gradient boosting**.\n",
    "\n",
    "# Setup\n",
    "\n",
    "The questions below will give you feedback on your work. Run the following cell to set up the feedback system."
   ]
  },
  {
   "cell_type": "code",
   "execution_count": 1,
   "id": "perceived-picnic",
   "metadata": {
    "execution": {
     "iopub.execute_input": "2021-05-09T08:12:26.725327Z",
     "iopub.status.busy": "2021-05-09T08:12:26.723923Z",
     "iopub.status.idle": "2021-05-09T08:12:29.270424Z",
     "shell.execute_reply": "2021-05-09T08:12:29.271449Z"
    },
    "papermill": {
     "duration": 2.566945,
     "end_time": "2021-05-09T08:12:29.271811",
     "exception": false,
     "start_time": "2021-05-09T08:12:26.704866",
     "status": "completed"
    },
    "tags": []
   },
   "outputs": [
    {
     "name": "stdout",
     "output_type": "stream",
     "text": [
      "Setup Complete\n"
     ]
    }
   ],
   "source": [
    "# Set up code checking\n",
    "import os\n",
    "if not os.path.exists(\"../input/train.csv\"):\n",
    "    os.symlink(\"../input/home-data-for-ml-course/train.csv\", \"../input/train.csv\")  \n",
    "    os.symlink(\"../input/home-data-for-ml-course/test.csv\", \"../input/test.csv\") \n",
    "from learntools.core import binder\n",
    "binder.bind(globals())\n",
    "from learntools.ml_intermediate.ex6 import *\n",
    "print(\"Setup Complete\")"
   ]
  },
  {
   "cell_type": "markdown",
   "id": "strong-press",
   "metadata": {
    "papermill": {
     "duration": 0.017815,
     "end_time": "2021-05-09T08:12:29.314107",
     "exception": false,
     "start_time": "2021-05-09T08:12:29.296292",
     "status": "completed"
    },
    "tags": []
   },
   "source": [
    "You will work with the [Housing Prices Competition for Kaggle Learn Users](https://www.kaggle.com/c/home-data-for-ml-course) dataset from the previous exercise. \n",
    "\n",
    "![Ames Housing dataset image](https://i.imgur.com/lTJVG4e.png)\n",
    "\n",
    "Run the next code cell without changes to load the training and validation sets in `X_train`, `X_valid`, `y_train`, and `y_valid`.  The test set is loaded in `X_test`."
   ]
  },
  {
   "cell_type": "code",
   "execution_count": 2,
   "id": "creative-throw",
   "metadata": {
    "execution": {
     "iopub.execute_input": "2021-05-09T08:12:29.373534Z",
     "iopub.status.busy": "2021-05-09T08:12:29.372149Z",
     "iopub.status.idle": "2021-05-09T08:12:29.611868Z",
     "shell.execute_reply": "2021-05-09T08:12:29.609822Z"
    },
    "papermill": {
     "duration": 0.277365,
     "end_time": "2021-05-09T08:12:29.612102",
     "exception": false,
     "start_time": "2021-05-09T08:12:29.334737",
     "status": "completed"
    },
    "tags": []
   },
   "outputs": [],
   "source": [
    "import pandas as pd\n",
    "from sklearn.model_selection import train_test_split\n",
    "\n",
    "# Read the data\n",
    "X = pd.read_csv('../input/train.csv', index_col='Id')\n",
    "X_test_full = pd.read_csv('../input/test.csv', index_col='Id')\n",
    "\n",
    "# Remove rows with missing target, separate target from predictors\n",
    "X.dropna(axis=0, subset=['SalePrice'], inplace=True)\n",
    "y = X.SalePrice              \n",
    "X.drop(['SalePrice'], axis=1, inplace=True)\n",
    "\n",
    "# Break off validation set from training data\n",
    "X_train_full, X_valid_full, y_train, y_valid = train_test_split(X, y, train_size=0.8, test_size=0.2,\n",
    "                                                                random_state=0)\n",
    "\n",
    "# \"Cardinality\" means the number of unique values in a column\n",
    "# Select categorical columns with relatively low cardinality (convenient but arbitrary)\n",
    "low_cardinality_cols = [cname for cname in X_train_full.columns if X_train_full[cname].nunique() < 10 and \n",
    "                        X_train_full[cname].dtype == \"object\"]\n",
    "\n",
    "# Select numeric columns\n",
    "numeric_cols = [cname for cname in X_train_full.columns if X_train_full[cname].dtype in ['int64', 'float64']]\n",
    "\n",
    "# Keep selected columns only\n",
    "my_cols = low_cardinality_cols + numeric_cols\n",
    "X_train = X_train_full[my_cols].copy()\n",
    "X_valid = X_valid_full[my_cols].copy()\n",
    "X_test = X_test_full[my_cols].copy()\n",
    "\n",
    "# One-hot encode the data (to shorten the code, we use pandas)\n",
    "X_train = pd.get_dummies(X_train)\n",
    "X_valid = pd.get_dummies(X_valid)\n",
    "X_test = pd.get_dummies(X_test)\n",
    "X_train, X_valid = X_train.align(X_valid, join='left', axis=1)\n",
    "X_train, X_test = X_train.align(X_test, join='left', axis=1)"
   ]
  },
  {
   "cell_type": "markdown",
   "id": "essential-timber",
   "metadata": {
    "papermill": {
     "duration": 0.014178,
     "end_time": "2021-05-09T08:12:29.642416",
     "exception": false,
     "start_time": "2021-05-09T08:12:29.628238",
     "status": "completed"
    },
    "tags": []
   },
   "source": [
    "# Step 1: Build model\n",
    "\n",
    "### Part A\n",
    "\n",
    "In this step, you'll build and train your first model with gradient boosting.\n",
    "\n",
    "- Begin by setting `my_model_1` to an XGBoost model.  Use the [XGBRegressor](https://xgboost.readthedocs.io/en/latest/python/python_api.html#xgboost.XGBRegressor) class, and set the random seed to 0 (`random_state=0`).  **Leave all other parameters as default.**\n",
    "- Then, fit the model to the training data in `X_train` and `y_train`."
   ]
  },
  {
   "cell_type": "code",
   "execution_count": 3,
   "id": "distributed-marina",
   "metadata": {
    "execution": {
     "iopub.execute_input": "2021-05-09T08:12:29.679162Z",
     "iopub.status.busy": "2021-05-09T08:12:29.678135Z",
     "iopub.status.idle": "2021-05-09T08:12:30.316875Z",
     "shell.execute_reply": "2021-05-09T08:12:30.316265Z"
    },
    "papermill": {
     "duration": 0.660201,
     "end_time": "2021-05-09T08:12:30.317029",
     "exception": false,
     "start_time": "2021-05-09T08:12:29.656828",
     "status": "completed"
    },
    "tags": []
   },
   "outputs": [
    {
     "data": {
      "application/javascript": [
       "parent.postMessage({\"jupyterEvent\": \"custom.exercise_interaction\", \"data\": {\"outcomeType\": 1, \"valueTowardsCompletion\": 0.5, \"interactionType\": 1, \"questionType\": 2, \"questionId\": \"1.1_Model1A\", \"learnToolsVersion\": \"0.3.4\", \"failureMessage\": \"\", \"exceptionClass\": \"\", \"trace\": \"\"}}, \"*\")"
      ],
      "text/plain": [
       "<IPython.core.display.Javascript object>"
      ]
     },
     "metadata": {},
     "output_type": "display_data"
    },
    {
     "data": {
      "text/markdown": [
       "<span style=\"color:#33cc33\">Correct</span>"
      ],
      "text/plain": [
       "Correct"
      ]
     },
     "metadata": {},
     "output_type": "display_data"
    }
   ],
   "source": [
    "from xgboost import XGBRegressor\n",
    "\n",
    "# Define the model\n",
    "my_model_1 = XGBRegressor(random_state=0) # Your code here\n",
    "\n",
    "# Fit the model\n",
    "my_model_1.fit(X_train, y_train) # Your code here\n",
    "\n",
    "# Check your answer\n",
    "step_1.a.check()"
   ]
  },
  {
   "cell_type": "code",
   "execution_count": 4,
   "id": "mental-catholic",
   "metadata": {
    "execution": {
     "iopub.execute_input": "2021-05-09T08:12:30.353990Z",
     "iopub.status.busy": "2021-05-09T08:12:30.353308Z",
     "iopub.status.idle": "2021-05-09T08:12:30.356845Z",
     "shell.execute_reply": "2021-05-09T08:12:30.356257Z"
    },
    "papermill": {
     "duration": 0.023355,
     "end_time": "2021-05-09T08:12:30.356998",
     "exception": false,
     "start_time": "2021-05-09T08:12:30.333643",
     "status": "completed"
    },
    "tags": []
   },
   "outputs": [],
   "source": [
    "# Lines below will give you a hint or solution code\n",
    "#step_1.a.hint()\n",
    "#step_1.a.solution()"
   ]
  },
  {
   "cell_type": "markdown",
   "id": "northern-transfer",
   "metadata": {
    "papermill": {
     "duration": 0.017661,
     "end_time": "2021-05-09T08:12:30.392185",
     "exception": false,
     "start_time": "2021-05-09T08:12:30.374524",
     "status": "completed"
    },
    "tags": []
   },
   "source": [
    "### Part B\n",
    "\n",
    "Set `predictions_1` to the model's predictions for the validation data.  Recall that the validation features are stored in `X_valid`."
   ]
  },
  {
   "cell_type": "code",
   "execution_count": 5,
   "id": "demonstrated-gather",
   "metadata": {
    "execution": {
     "iopub.execute_input": "2021-05-09T08:12:30.440796Z",
     "iopub.status.busy": "2021-05-09T08:12:30.439892Z",
     "iopub.status.idle": "2021-05-09T08:12:30.457205Z",
     "shell.execute_reply": "2021-05-09T08:12:30.457841Z"
    },
    "papermill": {
     "duration": 0.049262,
     "end_time": "2021-05-09T08:12:30.458245",
     "exception": false,
     "start_time": "2021-05-09T08:12:30.408983",
     "status": "completed"
    },
    "tags": []
   },
   "outputs": [
    {
     "data": {
      "application/javascript": [
       "parent.postMessage({\"jupyterEvent\": \"custom.exercise_interaction\", \"data\": {\"outcomeType\": 1, \"valueTowardsCompletion\": 0.5, \"interactionType\": 1, \"questionType\": 2, \"questionId\": \"1.2_Model1B\", \"learnToolsVersion\": \"0.3.4\", \"failureMessage\": \"\", \"exceptionClass\": \"\", \"trace\": \"\"}}, \"*\")"
      ],
      "text/plain": [
       "<IPython.core.display.Javascript object>"
      ]
     },
     "metadata": {},
     "output_type": "display_data"
    },
    {
     "data": {
      "text/markdown": [
       "<span style=\"color:#33cc33\">Correct</span>"
      ],
      "text/plain": [
       "Correct"
      ]
     },
     "metadata": {},
     "output_type": "display_data"
    }
   ],
   "source": [
    "from sklearn.metrics import mean_absolute_error\n",
    "\n",
    "# Get predictions\n",
    "predictions_1 = my_model_1.predict(X_valid) # Your code here\n",
    "\n",
    "# Check your answer\n",
    "step_1.b.check()"
   ]
  },
  {
   "cell_type": "code",
   "execution_count": 6,
   "id": "functioning-launch",
   "metadata": {
    "execution": {
     "iopub.execute_input": "2021-05-09T08:12:30.499953Z",
     "iopub.status.busy": "2021-05-09T08:12:30.499125Z",
     "iopub.status.idle": "2021-05-09T08:12:30.502456Z",
     "shell.execute_reply": "2021-05-09T08:12:30.501898Z"
    },
    "papermill": {
     "duration": 0.026355,
     "end_time": "2021-05-09T08:12:30.502626",
     "exception": false,
     "start_time": "2021-05-09T08:12:30.476271",
     "status": "completed"
    },
    "tags": []
   },
   "outputs": [],
   "source": [
    "# Lines below will give you a hint or solution code\n",
    "#step_1.b.hint()\n",
    "#step_1.b.solution()"
   ]
  },
  {
   "cell_type": "markdown",
   "id": "viral-career",
   "metadata": {
    "papermill": {
     "duration": 0.016692,
     "end_time": "2021-05-09T08:12:30.537973",
     "exception": false,
     "start_time": "2021-05-09T08:12:30.521281",
     "status": "completed"
    },
    "tags": []
   },
   "source": [
    "### Part C\n",
    "\n",
    "Finally, use the `mean_absolute_error()` function to calculate the mean absolute error (MAE) corresponding to the predictions for the validation set.  Recall that the labels for the validation data are stored in `y_valid`."
   ]
  },
  {
   "cell_type": "code",
   "execution_count": 7,
   "id": "medical-neighborhood",
   "metadata": {
    "execution": {
     "iopub.execute_input": "2021-05-09T08:12:30.577408Z",
     "iopub.status.busy": "2021-05-09T08:12:30.576724Z",
     "iopub.status.idle": "2021-05-09T08:12:30.585753Z",
     "shell.execute_reply": "2021-05-09T08:12:30.586257Z"
    },
    "papermill": {
     "duration": 0.031523,
     "end_time": "2021-05-09T08:12:30.586452",
     "exception": false,
     "start_time": "2021-05-09T08:12:30.554929",
     "status": "completed"
    },
    "tags": []
   },
   "outputs": [
    {
     "name": "stdout",
     "output_type": "stream",
     "text": [
      "Mean Absolute Error: 17662.736729452055\n"
     ]
    },
    {
     "data": {
      "application/javascript": [
       "parent.postMessage({\"jupyterEvent\": \"custom.exercise_interaction\", \"data\": {\"outcomeType\": 1, \"valueTowardsCompletion\": 0.5, \"interactionType\": 1, \"questionType\": 2, \"questionId\": \"1.3_Model1C\", \"learnToolsVersion\": \"0.3.4\", \"failureMessage\": \"\", \"exceptionClass\": \"\", \"trace\": \"\"}}, \"*\")"
      ],
      "text/plain": [
       "<IPython.core.display.Javascript object>"
      ]
     },
     "metadata": {},
     "output_type": "display_data"
    },
    {
     "data": {
      "text/markdown": [
       "<span style=\"color:#33cc33\">Correct</span>"
      ],
      "text/plain": [
       "Correct"
      ]
     },
     "metadata": {},
     "output_type": "display_data"
    }
   ],
   "source": [
    "# Calculate MAE\n",
    "mae_1 = mean_absolute_error(predictions_1, y_valid) # Your code here\n",
    "\n",
    "# Uncomment to print MAE\n",
    "print(\"Mean Absolute Error:\" , mae_1)\n",
    "\n",
    "# Check your answer\n",
    "step_1.c.check()"
   ]
  },
  {
   "cell_type": "code",
   "execution_count": 8,
   "id": "alone-adventure",
   "metadata": {
    "execution": {
     "iopub.execute_input": "2021-05-09T08:12:30.629011Z",
     "iopub.status.busy": "2021-05-09T08:12:30.628206Z",
     "iopub.status.idle": "2021-05-09T08:12:30.631878Z",
     "shell.execute_reply": "2021-05-09T08:12:30.632477Z"
    },
    "papermill": {
     "duration": 0.02764,
     "end_time": "2021-05-09T08:12:30.632657",
     "exception": false,
     "start_time": "2021-05-09T08:12:30.605017",
     "status": "completed"
    },
    "tags": []
   },
   "outputs": [],
   "source": [
    "# Lines below will give you a hint or solution code\n",
    "#step_1.c.hint()\n",
    "#step_1.c.solution()"
   ]
  },
  {
   "cell_type": "markdown",
   "id": "dental-chicago",
   "metadata": {
    "papermill": {
     "duration": 0.018426,
     "end_time": "2021-05-09T08:12:30.670965",
     "exception": false,
     "start_time": "2021-05-09T08:12:30.652539",
     "status": "completed"
    },
    "tags": []
   },
   "source": [
    "# Step 2: Improve the model\n",
    "\n",
    "Now that you've trained a default model as baseline, it's time to tinker with the parameters, to see if you can get better performance!\n",
    "- Begin by setting `my_model_2` to an XGBoost model, using the [XGBRegressor](https://xgboost.readthedocs.io/en/latest/python/python_api.html#xgboost.XGBRegressor) class.  Use what you learned in the previous tutorial to figure out how to change the default parameters (like `n_estimators` and `learning_rate`) to get better results.\n",
    "- Then, fit the model to the training data in `X_train` and `y_train`.\n",
    "- Set `predictions_2` to the model's predictions for the validation data.  Recall that the validation features are stored in `X_valid`.\n",
    "- Finally, use the `mean_absolute_error()` function to calculate the mean absolute error (MAE) corresponding to the predictions on the validation set.  Recall that the labels for the validation data are stored in `y_valid`.\n",
    "\n",
    "In order for this step to be marked correct, your model in `my_model_2` must attain lower MAE than the model in `my_model_1`. "
   ]
  },
  {
   "cell_type": "code",
   "execution_count": 9,
   "id": "hairy-latex",
   "metadata": {
    "execution": {
     "iopub.execute_input": "2021-05-09T08:12:30.725126Z",
     "iopub.status.busy": "2021-05-09T08:12:30.720670Z",
     "iopub.status.idle": "2021-05-09T08:12:36.698818Z",
     "shell.execute_reply": "2021-05-09T08:12:36.697424Z"
    },
    "papermill": {
     "duration": 6.008801,
     "end_time": "2021-05-09T08:12:36.699006",
     "exception": false,
     "start_time": "2021-05-09T08:12:30.690205",
     "status": "completed"
    },
    "tags": []
   },
   "outputs": [
    {
     "name": "stdout",
     "output_type": "stream",
     "text": [
      "Mean Absolute Error: 16688.691513270547\n"
     ]
    },
    {
     "data": {
      "application/javascript": [
       "parent.postMessage({\"jupyterEvent\": \"custom.exercise_interaction\", \"data\": {\"outcomeType\": 1, \"valueTowardsCompletion\": 0.5, \"interactionType\": 1, \"questionType\": 2, \"questionId\": \"2_Model2\", \"learnToolsVersion\": \"0.3.4\", \"failureMessage\": \"\", \"exceptionClass\": \"\", \"trace\": \"\"}}, \"*\")"
      ],
      "text/plain": [
       "<IPython.core.display.Javascript object>"
      ]
     },
     "metadata": {},
     "output_type": "display_data"
    },
    {
     "data": {
      "text/markdown": [
       "<span style=\"color:#33cc33\">Correct</span>"
      ],
      "text/plain": [
       "Correct"
      ]
     },
     "metadata": {},
     "output_type": "display_data"
    }
   ],
   "source": [
    "# Define the model\n",
    "my_model_2 = XGBRegressor(n_estimators=1000, learning_rate=0.05) # Your code here\n",
    "\n",
    "# Fit the model\n",
    "my_model_2.fit(X_train, y_train) # Your code here\n",
    "\n",
    "# Get predictions\n",
    "predictions_2 = my_model_2.predict(X_valid) # Your code here\n",
    "\n",
    "# Calculate MAE\n",
    "mae_2 = mean_absolute_error(predictions_2, y_valid) # Your code here\n",
    "\n",
    "# Uncomment to print MAE\n",
    "print(\"Mean Absolute Error:\" , mae_2)\n",
    "\n",
    "# Check your answer\n",
    "step_2.check()"
   ]
  },
  {
   "cell_type": "code",
   "execution_count": 10,
   "id": "attached-extraction",
   "metadata": {
    "execution": {
     "iopub.execute_input": "2021-05-09T08:12:36.744586Z",
     "iopub.status.busy": "2021-05-09T08:12:36.743644Z",
     "iopub.status.idle": "2021-05-09T08:12:36.747210Z",
     "shell.execute_reply": "2021-05-09T08:12:36.746422Z"
    },
    "papermill": {
     "duration": 0.028078,
     "end_time": "2021-05-09T08:12:36.747360",
     "exception": false,
     "start_time": "2021-05-09T08:12:36.719282",
     "status": "completed"
    },
    "tags": []
   },
   "outputs": [],
   "source": [
    "# Lines below will give you a hint or solution code\n",
    "#step_2.hint()\n",
    "#step_2.solution()"
   ]
  },
  {
   "cell_type": "markdown",
   "id": "continental-tunisia",
   "metadata": {
    "papermill": {
     "duration": 0.020917,
     "end_time": "2021-05-09T08:12:36.788878",
     "exception": false,
     "start_time": "2021-05-09T08:12:36.767961",
     "status": "completed"
    },
    "tags": []
   },
   "source": [
    "# Step 3: Break the model\n",
    "\n",
    "In this step, you will create a model that performs worse than the original model in Step 1.  This will help you to develop your intuition for how to set parameters.  You might even find that you accidentally get better performance, which is ultimately a nice problem to have and a valuable learning experience!\n",
    "- Begin by setting `my_model_3` to an XGBoost model, using the [XGBRegressor](https://xgboost.readthedocs.io/en/latest/python/python_api.html#xgboost.XGBRegressor) class.  Use what you learned in the previous tutorial to figure out how to change the default parameters (like `n_estimators` and `learning_rate`) to design a model to get high MAE.\n",
    "- Then, fit the model to the training data in `X_train` and `y_train`.\n",
    "- Set `predictions_3` to the model's predictions for the validation data.  Recall that the validation features are stored in `X_valid`.\n",
    "- Finally, use the `mean_absolute_error()` function to calculate the mean absolute error (MAE) corresponding to the predictions on the validation set.  Recall that the labels for the validation data are stored in `y_valid`.\n",
    "\n",
    "In order for this step to be marked correct, your model in `my_model_3` must attain higher MAE than the model in `my_model_1`. "
   ]
  },
  {
   "cell_type": "code",
   "execution_count": 11,
   "id": "creative-threshold",
   "metadata": {
    "execution": {
     "iopub.execute_input": "2021-05-09T08:12:36.844626Z",
     "iopub.status.busy": "2021-05-09T08:12:36.843762Z",
     "iopub.status.idle": "2021-05-09T08:12:36.879812Z",
     "shell.execute_reply": "2021-05-09T08:12:36.880365Z"
    },
    "papermill": {
     "duration": 0.070957,
     "end_time": "2021-05-09T08:12:36.880576",
     "exception": false,
     "start_time": "2021-05-09T08:12:36.809619",
     "status": "completed"
    },
    "tags": []
   },
   "outputs": [
    {
     "name": "stdout",
     "output_type": "stream",
     "text": [
      "Mean Absolute Error: 127895.0828807256\n"
     ]
    },
    {
     "data": {
      "application/javascript": [
       "parent.postMessage({\"jupyterEvent\": \"custom.exercise_interaction\", \"data\": {\"outcomeType\": 1, \"valueTowardsCompletion\": 0.5, \"interactionType\": 1, \"questionType\": 2, \"questionId\": \"3_Model3\", \"learnToolsVersion\": \"0.3.4\", \"failureMessage\": \"\", \"exceptionClass\": \"\", \"trace\": \"\"}}, \"*\")"
      ],
      "text/plain": [
       "<IPython.core.display.Javascript object>"
      ]
     },
     "metadata": {},
     "output_type": "display_data"
    },
    {
     "data": {
      "text/markdown": [
       "<span style=\"color:#33cc33\">Correct</span>"
      ],
      "text/plain": [
       "Correct"
      ]
     },
     "metadata": {},
     "output_type": "display_data"
    }
   ],
   "source": [
    "# Define the model\n",
    "my_model_3 = XGBRegressor(n_estimators=1)\n",
    "\n",
    "# Fit the model\n",
    "my_model_3.fit(X_train, y_train) # Your code here\n",
    "\n",
    "# Get predictions\n",
    "predictions_3 = my_model_3.predict(X_valid)\n",
    "\n",
    "# Calculate MAE\n",
    "mae_3 = mean_absolute_error(predictions_3, y_valid)\n",
    "\n",
    "# Uncomment to print MAE\n",
    "print(\"Mean Absolute Error:\" , mae_3)\n",
    "\n",
    "# Check your answer\n",
    "step_3.check()"
   ]
  },
  {
   "cell_type": "code",
   "execution_count": 12,
   "id": "naval-consortium",
   "metadata": {
    "execution": {
     "iopub.execute_input": "2021-05-09T08:12:36.930510Z",
     "iopub.status.busy": "2021-05-09T08:12:36.929459Z",
     "iopub.status.idle": "2021-05-09T08:12:36.933303Z",
     "shell.execute_reply": "2021-05-09T08:12:36.932716Z"
    },
    "papermill": {
     "duration": 0.029641,
     "end_time": "2021-05-09T08:12:36.933467",
     "exception": false,
     "start_time": "2021-05-09T08:12:36.903826",
     "status": "completed"
    },
    "tags": []
   },
   "outputs": [],
   "source": [
    "# Lines below will give you a hint or solution code\n",
    "#step_3.hint()\n",
    "#step_3.solution()"
   ]
  },
  {
   "cell_type": "markdown",
   "id": "serial-testament",
   "metadata": {
    "papermill": {
     "duration": 0.02154,
     "end_time": "2021-05-09T08:12:36.976362",
     "exception": false,
     "start_time": "2021-05-09T08:12:36.954822",
     "status": "completed"
    },
    "tags": []
   },
   "source": [
    "# Keep going\n",
    "\n",
    "Continue to learn about **[data leakage](https://www.kaggle.com/alexisbcook/data-leakage)**.  This is an important issue for a data scientist to understand, and it has the potential to ruin your models in subtle and dangerous ways!"
   ]
  },
  {
   "cell_type": "markdown",
   "id": "human-biodiversity",
   "metadata": {
    "papermill": {
     "duration": 0.02323,
     "end_time": "2021-05-09T08:12:37.022567",
     "exception": false,
     "start_time": "2021-05-09T08:12:36.999337",
     "status": "completed"
    },
    "tags": []
   },
   "source": [
    "---\n",
    "\n",
    "\n",
    "\n",
    "\n",
    "*Have questions or comments? Visit the [Learn Discussion forum](https://www.kaggle.com/learn-forum/161289) to chat with other Learners.*"
   ]
  }
 ],
 "metadata": {
  "kernelspec": {
   "display_name": "Python 3",
   "language": "python",
   "name": "python3"
  },
  "language_info": {
   "codemirror_mode": {
    "name": "ipython",
    "version": 3
   },
   "file_extension": ".py",
   "mimetype": "text/x-python",
   "name": "python",
   "nbconvert_exporter": "python",
   "pygments_lexer": "ipython3",
   "version": "3.7.9"
  },
  "papermill": {
   "default_parameters": {},
   "duration": 18.38408,
   "end_time": "2021-05-09T08:12:37.758262",
   "environment_variables": {},
   "exception": null,
   "input_path": "__notebook__.ipynb",
   "output_path": "__notebook__.ipynb",
   "parameters": {},
   "start_time": "2021-05-09T08:12:19.374182",
   "version": "2.3.2"
  }
 },
 "nbformat": 4,
 "nbformat_minor": 5
}
