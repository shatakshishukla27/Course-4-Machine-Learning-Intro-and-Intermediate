{
 "cells": [
  {
   "cell_type": "markdown",
   "id": "public-wellington",
   "metadata": {
    "papermill": {
     "duration": 0.024922,
     "end_time": "2021-05-09T07:53:04.225045",
     "exception": false,
     "start_time": "2021-05-09T07:53:04.200123",
     "status": "completed"
    },
    "tags": []
   },
   "source": [
    "**This notebook is an exercise in the [Intermediate Machine Learning](https://www.kaggle.com/learn/intermediate-machine-learning) course.  You can reference the tutorial at [this link](https://www.kaggle.com/alexisbcook/missing-values).**\n",
    "\n",
    "---\n"
   ]
  },
  {
   "cell_type": "markdown",
   "id": "characteristic-organ",
   "metadata": {
    "papermill": {
     "duration": 0.023717,
     "end_time": "2021-05-09T07:53:04.272766",
     "exception": false,
     "start_time": "2021-05-09T07:53:04.249049",
     "status": "completed"
    },
    "tags": []
   },
   "source": [
    "Now it's your turn to test your new knowledge of **missing values** handling. You'll probably find it makes a big difference.\n",
    "\n",
    "# Setup\n",
    "\n",
    "The questions will give you feedback on your work. Run the following cell to set up the feedback system."
   ]
  },
  {
   "cell_type": "code",
   "execution_count": 1,
   "id": "electrical-nation",
   "metadata": {
    "execution": {
     "iopub.execute_input": "2021-05-09T07:53:04.325871Z",
     "iopub.status.busy": "2021-05-09T07:53:04.324769Z",
     "iopub.status.idle": "2021-05-09T07:53:04.369458Z",
     "shell.execute_reply": "2021-05-09T07:53:04.369985Z"
    },
    "papermill": {
     "duration": 0.073325,
     "end_time": "2021-05-09T07:53:04.370280",
     "exception": false,
     "start_time": "2021-05-09T07:53:04.296955",
     "status": "completed"
    },
    "tags": []
   },
   "outputs": [
    {
     "name": "stdout",
     "output_type": "stream",
     "text": [
      "Setup Complete\n"
     ]
    }
   ],
   "source": [
    "# Set up code checking\n",
    "import os\n",
    "if not os.path.exists(\"../input/train.csv\"):\n",
    "    os.symlink(\"../input/home-data-for-ml-course/train.csv\", \"../input/train.csv\")  \n",
    "    os.symlink(\"../input/home-data-for-ml-course/test.csv\", \"../input/test.csv\") \n",
    "from learntools.core import binder\n",
    "binder.bind(globals())\n",
    "from learntools.ml_intermediate.ex2 import *\n",
    "print(\"Setup Complete\")"
   ]
  },
  {
   "cell_type": "markdown",
   "id": "hairy-entrepreneur",
   "metadata": {
    "papermill": {
     "duration": 0.024654,
     "end_time": "2021-05-09T07:53:04.421407",
     "exception": false,
     "start_time": "2021-05-09T07:53:04.396753",
     "status": "completed"
    },
    "tags": []
   },
   "source": [
    "In this exercise, you will work with data from the [Housing Prices Competition for Kaggle Learn Users](https://www.kaggle.com/c/home-data-for-ml-course). \n",
    "\n",
    "![Ames Housing dataset image](https://i.imgur.com/lTJVG4e.png)\n",
    "\n",
    "Run the next code cell without changes to load the training and validation sets in `X_train`, `X_valid`, `y_train`, and `y_valid`.  The test set is loaded in `X_test`."
   ]
  },
  {
   "cell_type": "code",
   "execution_count": 2,
   "id": "promising-forwarding",
   "metadata": {
    "execution": {
     "iopub.execute_input": "2021-05-09T07:53:04.478916Z",
     "iopub.status.busy": "2021-05-09T07:53:04.478223Z",
     "iopub.status.idle": "2021-05-09T07:53:05.680137Z",
     "shell.execute_reply": "2021-05-09T07:53:05.679572Z"
    },
    "papermill": {
     "duration": 1.234069,
     "end_time": "2021-05-09T07:53:05.680288",
     "exception": false,
     "start_time": "2021-05-09T07:53:04.446219",
     "status": "completed"
    },
    "tags": []
   },
   "outputs": [],
   "source": [
    "import pandas as pd\n",
    "from sklearn.model_selection import train_test_split\n",
    "\n",
    "# Read the data\n",
    "X_full = pd.read_csv('../input/train.csv', index_col='Id')\n",
    "X_test_full = pd.read_csv('../input/test.csv', index_col='Id')\n",
    "\n",
    "# Remove rows with missing target, separate target from predictors\n",
    "X_full.dropna(axis=0, subset=['SalePrice'], inplace=True)\n",
    "y = X_full.SalePrice\n",
    "X_full.drop(['SalePrice'], axis=1, inplace=True)\n",
    "\n",
    "# To keep things simple, we'll use only numerical predictors\n",
    "X = X_full.select_dtypes(exclude=['object'])\n",
    "X_test = X_test_full.select_dtypes(exclude=['object'])\n",
    "\n",
    "# Break off validation set from training data\n",
    "X_train, X_valid, y_train, y_valid = train_test_split(X, y, train_size=0.8, test_size=0.2,\n",
    "                                                      random_state=0)"
   ]
  },
  {
   "cell_type": "markdown",
   "id": "unnecessary-jenny",
   "metadata": {
    "papermill": {
     "duration": 0.024747,
     "end_time": "2021-05-09T07:53:05.730113",
     "exception": false,
     "start_time": "2021-05-09T07:53:05.705366",
     "status": "completed"
    },
    "tags": []
   },
   "source": [
    "Use the next code cell to print the first five rows of the data."
   ]
  },
  {
   "cell_type": "code",
   "execution_count": 3,
   "id": "trying-valuation",
   "metadata": {
    "execution": {
     "iopub.execute_input": "2021-05-09T07:53:05.789891Z",
     "iopub.status.busy": "2021-05-09T07:53:05.789143Z",
     "iopub.status.idle": "2021-05-09T07:53:05.814103Z",
     "shell.execute_reply": "2021-05-09T07:53:05.813546Z"
    },
    "papermill": {
     "duration": 0.059085,
     "end_time": "2021-05-09T07:53:05.814247",
     "exception": false,
     "start_time": "2021-05-09T07:53:05.755162",
     "status": "completed"
    },
    "tags": []
   },
   "outputs": [
    {
     "data": {
      "text/html": [
       "<div>\n",
       "<style scoped>\n",
       "    .dataframe tbody tr th:only-of-type {\n",
       "        vertical-align: middle;\n",
       "    }\n",
       "\n",
       "    .dataframe tbody tr th {\n",
       "        vertical-align: top;\n",
       "    }\n",
       "\n",
       "    .dataframe thead th {\n",
       "        text-align: right;\n",
       "    }\n",
       "</style>\n",
       "<table border=\"1\" class=\"dataframe\">\n",
       "  <thead>\n",
       "    <tr style=\"text-align: right;\">\n",
       "      <th></th>\n",
       "      <th>MSSubClass</th>\n",
       "      <th>LotFrontage</th>\n",
       "      <th>LotArea</th>\n",
       "      <th>OverallQual</th>\n",
       "      <th>OverallCond</th>\n",
       "      <th>YearBuilt</th>\n",
       "      <th>YearRemodAdd</th>\n",
       "      <th>MasVnrArea</th>\n",
       "      <th>BsmtFinSF1</th>\n",
       "      <th>BsmtFinSF2</th>\n",
       "      <th>...</th>\n",
       "      <th>GarageArea</th>\n",
       "      <th>WoodDeckSF</th>\n",
       "      <th>OpenPorchSF</th>\n",
       "      <th>EnclosedPorch</th>\n",
       "      <th>3SsnPorch</th>\n",
       "      <th>ScreenPorch</th>\n",
       "      <th>PoolArea</th>\n",
       "      <th>MiscVal</th>\n",
       "      <th>MoSold</th>\n",
       "      <th>YrSold</th>\n",
       "    </tr>\n",
       "    <tr>\n",
       "      <th>Id</th>\n",
       "      <th></th>\n",
       "      <th></th>\n",
       "      <th></th>\n",
       "      <th></th>\n",
       "      <th></th>\n",
       "      <th></th>\n",
       "      <th></th>\n",
       "      <th></th>\n",
       "      <th></th>\n",
       "      <th></th>\n",
       "      <th></th>\n",
       "      <th></th>\n",
       "      <th></th>\n",
       "      <th></th>\n",
       "      <th></th>\n",
       "      <th></th>\n",
       "      <th></th>\n",
       "      <th></th>\n",
       "      <th></th>\n",
       "      <th></th>\n",
       "      <th></th>\n",
       "    </tr>\n",
       "  </thead>\n",
       "  <tbody>\n",
       "    <tr>\n",
       "      <th>619</th>\n",
       "      <td>20</td>\n",
       "      <td>90.0</td>\n",
       "      <td>11694</td>\n",
       "      <td>9</td>\n",
       "      <td>5</td>\n",
       "      <td>2007</td>\n",
       "      <td>2007</td>\n",
       "      <td>452.0</td>\n",
       "      <td>48</td>\n",
       "      <td>0</td>\n",
       "      <td>...</td>\n",
       "      <td>774</td>\n",
       "      <td>0</td>\n",
       "      <td>108</td>\n",
       "      <td>0</td>\n",
       "      <td>0</td>\n",
       "      <td>260</td>\n",
       "      <td>0</td>\n",
       "      <td>0</td>\n",
       "      <td>7</td>\n",
       "      <td>2007</td>\n",
       "    </tr>\n",
       "    <tr>\n",
       "      <th>871</th>\n",
       "      <td>20</td>\n",
       "      <td>60.0</td>\n",
       "      <td>6600</td>\n",
       "      <td>5</td>\n",
       "      <td>5</td>\n",
       "      <td>1962</td>\n",
       "      <td>1962</td>\n",
       "      <td>0.0</td>\n",
       "      <td>0</td>\n",
       "      <td>0</td>\n",
       "      <td>...</td>\n",
       "      <td>308</td>\n",
       "      <td>0</td>\n",
       "      <td>0</td>\n",
       "      <td>0</td>\n",
       "      <td>0</td>\n",
       "      <td>0</td>\n",
       "      <td>0</td>\n",
       "      <td>0</td>\n",
       "      <td>8</td>\n",
       "      <td>2009</td>\n",
       "    </tr>\n",
       "    <tr>\n",
       "      <th>93</th>\n",
       "      <td>30</td>\n",
       "      <td>80.0</td>\n",
       "      <td>13360</td>\n",
       "      <td>5</td>\n",
       "      <td>7</td>\n",
       "      <td>1921</td>\n",
       "      <td>2006</td>\n",
       "      <td>0.0</td>\n",
       "      <td>713</td>\n",
       "      <td>0</td>\n",
       "      <td>...</td>\n",
       "      <td>432</td>\n",
       "      <td>0</td>\n",
       "      <td>0</td>\n",
       "      <td>44</td>\n",
       "      <td>0</td>\n",
       "      <td>0</td>\n",
       "      <td>0</td>\n",
       "      <td>0</td>\n",
       "      <td>8</td>\n",
       "      <td>2009</td>\n",
       "    </tr>\n",
       "    <tr>\n",
       "      <th>818</th>\n",
       "      <td>20</td>\n",
       "      <td>NaN</td>\n",
       "      <td>13265</td>\n",
       "      <td>8</td>\n",
       "      <td>5</td>\n",
       "      <td>2002</td>\n",
       "      <td>2002</td>\n",
       "      <td>148.0</td>\n",
       "      <td>1218</td>\n",
       "      <td>0</td>\n",
       "      <td>...</td>\n",
       "      <td>857</td>\n",
       "      <td>150</td>\n",
       "      <td>59</td>\n",
       "      <td>0</td>\n",
       "      <td>0</td>\n",
       "      <td>0</td>\n",
       "      <td>0</td>\n",
       "      <td>0</td>\n",
       "      <td>7</td>\n",
       "      <td>2008</td>\n",
       "    </tr>\n",
       "    <tr>\n",
       "      <th>303</th>\n",
       "      <td>20</td>\n",
       "      <td>118.0</td>\n",
       "      <td>13704</td>\n",
       "      <td>7</td>\n",
       "      <td>5</td>\n",
       "      <td>2001</td>\n",
       "      <td>2002</td>\n",
       "      <td>150.0</td>\n",
       "      <td>0</td>\n",
       "      <td>0</td>\n",
       "      <td>...</td>\n",
       "      <td>843</td>\n",
       "      <td>468</td>\n",
       "      <td>81</td>\n",
       "      <td>0</td>\n",
       "      <td>0</td>\n",
       "      <td>0</td>\n",
       "      <td>0</td>\n",
       "      <td>0</td>\n",
       "      <td>1</td>\n",
       "      <td>2006</td>\n",
       "    </tr>\n",
       "  </tbody>\n",
       "</table>\n",
       "<p>5 rows × 36 columns</p>\n",
       "</div>"
      ],
      "text/plain": [
       "     MSSubClass  LotFrontage  LotArea  OverallQual  OverallCond  YearBuilt  \\\n",
       "Id                                                                           \n",
       "619          20         90.0    11694            9            5       2007   \n",
       "871          20         60.0     6600            5            5       1962   \n",
       "93           30         80.0    13360            5            7       1921   \n",
       "818          20          NaN    13265            8            5       2002   \n",
       "303          20        118.0    13704            7            5       2001   \n",
       "\n",
       "     YearRemodAdd  MasVnrArea  BsmtFinSF1  BsmtFinSF2  ...  GarageArea  \\\n",
       "Id                                                     ...               \n",
       "619          2007       452.0          48           0  ...         774   \n",
       "871          1962         0.0           0           0  ...         308   \n",
       "93           2006         0.0         713           0  ...         432   \n",
       "818          2002       148.0        1218           0  ...         857   \n",
       "303          2002       150.0           0           0  ...         843   \n",
       "\n",
       "     WoodDeckSF  OpenPorchSF  EnclosedPorch  3SsnPorch  ScreenPorch  PoolArea  \\\n",
       "Id                                                                              \n",
       "619           0          108              0          0          260         0   \n",
       "871           0            0              0          0            0         0   \n",
       "93            0            0             44          0            0         0   \n",
       "818         150           59              0          0            0         0   \n",
       "303         468           81              0          0            0         0   \n",
       "\n",
       "     MiscVal  MoSold  YrSold  \n",
       "Id                            \n",
       "619        0       7    2007  \n",
       "871        0       8    2009  \n",
       "93         0       8    2009  \n",
       "818        0       7    2008  \n",
       "303        0       1    2006  \n",
       "\n",
       "[5 rows x 36 columns]"
      ]
     },
     "execution_count": 3,
     "metadata": {},
     "output_type": "execute_result"
    }
   ],
   "source": [
    "X_train.head()"
   ]
  },
  {
   "cell_type": "markdown",
   "id": "roman-insertion",
   "metadata": {
    "papermill": {
     "duration": 0.025436,
     "end_time": "2021-05-09T07:53:05.865573",
     "exception": false,
     "start_time": "2021-05-09T07:53:05.840137",
     "status": "completed"
    },
    "tags": []
   },
   "source": [
    "You can already see a few missing values in the first several rows.  In the next step, you'll obtain a more comprehensive understanding of the missing values in the dataset.\n",
    "\n",
    "# Step 1: Preliminary investigation\n",
    "\n",
    "Run the code cell below without changes."
   ]
  },
  {
   "cell_type": "code",
   "execution_count": 4,
   "id": "soviet-herald",
   "metadata": {
    "execution": {
     "iopub.execute_input": "2021-05-09T07:53:05.920999Z",
     "iopub.status.busy": "2021-05-09T07:53:05.920039Z",
     "iopub.status.idle": "2021-05-09T07:53:05.929164Z",
     "shell.execute_reply": "2021-05-09T07:53:05.929684Z"
    },
    "papermill": {
     "duration": 0.038384,
     "end_time": "2021-05-09T07:53:05.929867",
     "exception": false,
     "start_time": "2021-05-09T07:53:05.891483",
     "status": "completed"
    },
    "tags": []
   },
   "outputs": [
    {
     "name": "stdout",
     "output_type": "stream",
     "text": [
      "(1168, 36)\n",
      "LotFrontage    212\n",
      "MasVnrArea       6\n",
      "GarageYrBlt     58\n",
      "dtype: int64\n"
     ]
    }
   ],
   "source": [
    "# Shape of training data (num_rows, num_columns)\n",
    "print(X_train.shape)\n",
    "\n",
    "# Number of missing values in each column of training data\n",
    "missing_val_count_by_column = (X_train.isnull().sum())\n",
    "print(missing_val_count_by_column[missing_val_count_by_column > 0])"
   ]
  },
  {
   "cell_type": "markdown",
   "id": "progressive-groove",
   "metadata": {
    "papermill": {
     "duration": 0.026095,
     "end_time": "2021-05-09T07:53:05.982281",
     "exception": false,
     "start_time": "2021-05-09T07:53:05.956186",
     "status": "completed"
    },
    "tags": []
   },
   "source": [
    "### Part A\n",
    "\n",
    "Use the above output to answer the questions below."
   ]
  },
  {
   "cell_type": "code",
   "execution_count": 5,
   "id": "tested-stick",
   "metadata": {
    "execution": {
     "iopub.execute_input": "2021-05-09T07:53:06.041383Z",
     "iopub.status.busy": "2021-05-09T07:53:06.040501Z",
     "iopub.status.idle": "2021-05-09T07:53:06.046684Z",
     "shell.execute_reply": "2021-05-09T07:53:06.046147Z"
    },
    "papermill": {
     "duration": 0.038105,
     "end_time": "2021-05-09T07:53:06.046832",
     "exception": false,
     "start_time": "2021-05-09T07:53:06.008727",
     "status": "completed"
    },
    "tags": []
   },
   "outputs": [
    {
     "data": {
      "application/javascript": [
       "parent.postMessage({\"jupyterEvent\": \"custom.exercise_interaction\", \"data\": {\"outcomeType\": 1, \"valueTowardsCompletion\": 1.0, \"interactionType\": 1, \"questionType\": 1, \"questionId\": \"1.1_InvestigateEquality\", \"learnToolsVersion\": \"0.3.4\", \"failureMessage\": \"\", \"exceptionClass\": \"\", \"trace\": \"\"}}, \"*\")"
      ],
      "text/plain": [
       "<IPython.core.display.Javascript object>"
      ]
     },
     "metadata": {},
     "output_type": "display_data"
    },
    {
     "data": {
      "text/markdown": [
       "<span style=\"color:#33cc33\">Correct</span>"
      ],
      "text/plain": [
       "Correct"
      ]
     },
     "metadata": {},
     "output_type": "display_data"
    }
   ],
   "source": [
    "# Fill in the line below: How many rows are in the training data?\n",
    "num_rows = 1168\n",
    "\n",
    "# Fill in the line below: How many columns in the training data\n",
    "# have missing values?\n",
    "num_cols_with_missing = 3\n",
    "\n",
    "# Fill in the line below: How many missing entries are contained in \n",
    "# all of the training data?\n",
    "tot_missing = 212+6+58\n",
    "\n",
    "# Check your answers\n",
    "step_1.a.check()"
   ]
  },
  {
   "cell_type": "code",
   "execution_count": 6,
   "id": "pressed-theta",
   "metadata": {
    "execution": {
     "iopub.execute_input": "2021-05-09T07:53:06.105064Z",
     "iopub.status.busy": "2021-05-09T07:53:06.104364Z",
     "iopub.status.idle": "2021-05-09T07:53:06.106959Z",
     "shell.execute_reply": "2021-05-09T07:53:06.107389Z"
    },
    "papermill": {
     "duration": 0.033746,
     "end_time": "2021-05-09T07:53:06.107542",
     "exception": false,
     "start_time": "2021-05-09T07:53:06.073796",
     "status": "completed"
    },
    "tags": []
   },
   "outputs": [],
   "source": [
    "# Lines below will give you a hint or solution code\n",
    "#step_1.a.hint()\n",
    "#step_1.a.solution()"
   ]
  },
  {
   "cell_type": "markdown",
   "id": "modified-mainland",
   "metadata": {
    "papermill": {
     "duration": 0.027252,
     "end_time": "2021-05-09T07:53:06.162162",
     "exception": false,
     "start_time": "2021-05-09T07:53:06.134910",
     "status": "completed"
    },
    "tags": []
   },
   "source": [
    "### Part B\n",
    "Considering your answers above, what do you think is likely the best approach to dealing with the missing values?"
   ]
  },
  {
   "cell_type": "code",
   "execution_count": 7,
   "id": "narrow-nothing",
   "metadata": {
    "execution": {
     "iopub.execute_input": "2021-05-09T07:53:06.228029Z",
     "iopub.status.busy": "2021-05-09T07:53:06.227090Z",
     "iopub.status.idle": "2021-05-09T07:53:06.234827Z",
     "shell.execute_reply": "2021-05-09T07:53:06.234264Z"
    },
    "papermill": {
     "duration": 0.038582,
     "end_time": "2021-05-09T07:53:06.234996",
     "exception": false,
     "start_time": "2021-05-09T07:53:06.196414",
     "status": "completed"
    },
    "tags": []
   },
   "outputs": [
    {
     "data": {
      "application/javascript": [
       "parent.postMessage({\"jupyterEvent\": \"custom.exercise_interaction\", \"data\": {\"outcomeType\": 1, \"valueTowardsCompletion\": 1.0, \"interactionType\": 1, \"questionType\": 4, \"questionId\": \"1.2_InvestigateThought\", \"learnToolsVersion\": \"0.3.4\", \"failureMessage\": \"\", \"exceptionClass\": \"\", \"trace\": \"\"}}, \"*\")"
      ],
      "text/plain": [
       "<IPython.core.display.Javascript object>"
      ]
     },
     "metadata": {},
     "output_type": "display_data"
    },
    {
     "data": {
      "text/markdown": [
       "<span style=\"color:#33cc33\">Correct:</span> \n",
       "\n",
       "Since there are relatively few missing entries in the data (the column with the greatest percentage of missing values is missing less than 20% of its entries), we can expect that dropping columns is unlikely to yield good results.  This is because we'd be throwing away a lot of valuable data, and so imputation will likely perform better."
      ],
      "text/plain": [
       "Correct: \n",
       "\n",
       "Since there are relatively few missing entries in the data (the column with the greatest percentage of missing values is missing less than 20% of its entries), we can expect that dropping columns is unlikely to yield good results.  This is because we'd be throwing away a lot of valuable data, and so imputation will likely perform better."
      ]
     },
     "metadata": {},
     "output_type": "display_data"
    }
   ],
   "source": [
    "# Check your answer (Run this code cell to receive credit!)\n",
    "step_1.b.check()"
   ]
  },
  {
   "cell_type": "code",
   "execution_count": 8,
   "id": "respective-content",
   "metadata": {
    "execution": {
     "iopub.execute_input": "2021-05-09T07:53:06.297775Z",
     "iopub.status.busy": "2021-05-09T07:53:06.297092Z",
     "iopub.status.idle": "2021-05-09T07:53:06.299472Z",
     "shell.execute_reply": "2021-05-09T07:53:06.299925Z"
    },
    "papermill": {
     "duration": 0.035478,
     "end_time": "2021-05-09T07:53:06.300086",
     "exception": false,
     "start_time": "2021-05-09T07:53:06.264608",
     "status": "completed"
    },
    "tags": []
   },
   "outputs": [],
   "source": [
    "#step_1.b.hint()"
   ]
  },
  {
   "cell_type": "markdown",
   "id": "hairy-battle",
   "metadata": {
    "papermill": {
     "duration": 0.028098,
     "end_time": "2021-05-09T07:53:06.356554",
     "exception": false,
     "start_time": "2021-05-09T07:53:06.328456",
     "status": "completed"
    },
    "tags": []
   },
   "source": [
    "To compare different approaches to dealing with missing values, you'll use the same `score_dataset()` function from the tutorial.  This function reports the [mean absolute error](https://en.wikipedia.org/wiki/Mean_absolute_error) (MAE) from a random forest model."
   ]
  },
  {
   "cell_type": "code",
   "execution_count": 9,
   "id": "proper-panama",
   "metadata": {
    "execution": {
     "iopub.execute_input": "2021-05-09T07:53:06.420717Z",
     "iopub.status.busy": "2021-05-09T07:53:06.420046Z",
     "iopub.status.idle": "2021-05-09T07:53:06.628568Z",
     "shell.execute_reply": "2021-05-09T07:53:06.627856Z"
    },
    "papermill": {
     "duration": 0.243372,
     "end_time": "2021-05-09T07:53:06.628748",
     "exception": false,
     "start_time": "2021-05-09T07:53:06.385376",
     "status": "completed"
    },
    "tags": []
   },
   "outputs": [],
   "source": [
    "from sklearn.ensemble import RandomForestRegressor\n",
    "from sklearn.metrics import mean_absolute_error\n",
    "\n",
    "# Function for comparing different approaches\n",
    "def score_dataset(X_train, X_valid, y_train, y_valid):\n",
    "    model = RandomForestRegressor(n_estimators=100, random_state=0)\n",
    "    model.fit(X_train, y_train)\n",
    "    preds = model.predict(X_valid)\n",
    "    return mean_absolute_error(y_valid, preds)"
   ]
  },
  {
   "cell_type": "markdown",
   "id": "induced-might",
   "metadata": {
    "papermill": {
     "duration": 0.028409,
     "end_time": "2021-05-09T07:53:06.686262",
     "exception": false,
     "start_time": "2021-05-09T07:53:06.657853",
     "status": "completed"
    },
    "tags": []
   },
   "source": [
    "# Step 2: Drop columns with missing values\n",
    "\n",
    "In this step, you'll preprocess the data in `X_train` and `X_valid` to remove columns with missing values.  Set the preprocessed DataFrames to `reduced_X_train` and `reduced_X_valid`, respectively.  "
   ]
  },
  {
   "cell_type": "code",
   "execution_count": 10,
   "id": "simplified-marker",
   "metadata": {
    "execution": {
     "iopub.execute_input": "2021-05-09T07:53:06.771520Z",
     "iopub.status.busy": "2021-05-09T07:53:06.770612Z",
     "iopub.status.idle": "2021-05-09T07:53:06.776424Z",
     "shell.execute_reply": "2021-05-09T07:53:06.775839Z"
    },
    "papermill": {
     "duration": 0.06152,
     "end_time": "2021-05-09T07:53:06.776551",
     "exception": false,
     "start_time": "2021-05-09T07:53:06.715031",
     "status": "completed"
    },
    "tags": []
   },
   "outputs": [
    {
     "data": {
      "application/javascript": [
       "parent.postMessage({\"jupyterEvent\": \"custom.exercise_interaction\", \"data\": {\"outcomeType\": 1, \"valueTowardsCompletion\": 1.0, \"interactionType\": 1, \"questionType\": 2, \"questionId\": \"2_DropMissing\", \"learnToolsVersion\": \"0.3.4\", \"failureMessage\": \"\", \"exceptionClass\": \"\", \"trace\": \"\"}}, \"*\")"
      ],
      "text/plain": [
       "<IPython.core.display.Javascript object>"
      ]
     },
     "metadata": {},
     "output_type": "display_data"
    },
    {
     "data": {
      "text/markdown": [
       "<span style=\"color:#33cc33\">Correct</span>"
      ],
      "text/plain": [
       "Correct"
      ]
     },
     "metadata": {},
     "output_type": "display_data"
    }
   ],
   "source": [
    "# Fill in the line below: get names of columns with missing values\n",
    "cols_with_missing = [col for col in X_train.columns\n",
    "                     if X_train[col].isnull().any()]\n",
    "# Fill in the lines below: drop columns in training and validation data\n",
    "reduced_X_train = X_train.drop(cols_with_missing, axis=1)\n",
    "reduced_X_valid = X_valid.drop(cols_with_missing, axis=1)\n",
    "\n",
    "# Check your answers\n",
    "step_2.check()"
   ]
  },
  {
   "cell_type": "code",
   "execution_count": 11,
   "id": "about-import",
   "metadata": {
    "execution": {
     "iopub.execute_input": "2021-05-09T07:53:06.840223Z",
     "iopub.status.busy": "2021-05-09T07:53:06.839417Z",
     "iopub.status.idle": "2021-05-09T07:53:06.842799Z",
     "shell.execute_reply": "2021-05-09T07:53:06.842172Z"
    },
    "papermill": {
     "duration": 0.036848,
     "end_time": "2021-05-09T07:53:06.842943",
     "exception": false,
     "start_time": "2021-05-09T07:53:06.806095",
     "status": "completed"
    },
    "tags": []
   },
   "outputs": [],
   "source": [
    "# Lines below will give you a hint or solution code\n",
    "#step_2.hint()\n",
    "#step_2.solution()"
   ]
  },
  {
   "cell_type": "markdown",
   "id": "initial-coach",
   "metadata": {
    "papermill": {
     "duration": 0.030483,
     "end_time": "2021-05-09T07:53:06.904137",
     "exception": false,
     "start_time": "2021-05-09T07:53:06.873654",
     "status": "completed"
    },
    "tags": []
   },
   "source": [
    "Run the next code cell without changes to obtain the MAE for this approach."
   ]
  },
  {
   "cell_type": "code",
   "execution_count": 12,
   "id": "federal-digit",
   "metadata": {
    "execution": {
     "iopub.execute_input": "2021-05-09T07:53:06.970426Z",
     "iopub.status.busy": "2021-05-09T07:53:06.969415Z",
     "iopub.status.idle": "2021-05-09T07:53:08.138289Z",
     "shell.execute_reply": "2021-05-09T07:53:08.137732Z"
    },
    "papermill": {
     "duration": 1.204988,
     "end_time": "2021-05-09T07:53:08.138441",
     "exception": false,
     "start_time": "2021-05-09T07:53:06.933453",
     "status": "completed"
    },
    "tags": []
   },
   "outputs": [
    {
     "name": "stdout",
     "output_type": "stream",
     "text": [
      "MAE (Drop columns with missing values):\n",
      "17837.82570776256\n"
     ]
    }
   ],
   "source": [
    "print(\"MAE (Drop columns with missing values):\")\n",
    "print(score_dataset(reduced_X_train, reduced_X_valid, y_train, y_valid))"
   ]
  },
  {
   "cell_type": "markdown",
   "id": "known-lunch",
   "metadata": {
    "papermill": {
     "duration": 0.045588,
     "end_time": "2021-05-09T07:53:08.215201",
     "exception": false,
     "start_time": "2021-05-09T07:53:08.169613",
     "status": "completed"
    },
    "tags": []
   },
   "source": [
    "# Step 3: Imputation\n",
    "\n",
    "### Part A\n",
    "\n",
    "Use the next code cell to impute missing values with the mean value along each column.  Set the preprocessed DataFrames to `imputed_X_train` and `imputed_X_valid`.  Make sure that the column names match those in `X_train` and `X_valid`."
   ]
  },
  {
   "cell_type": "code",
   "execution_count": 13,
   "id": "committed-overview",
   "metadata": {
    "execution": {
     "iopub.execute_input": "2021-05-09T07:53:08.298850Z",
     "iopub.status.busy": "2021-05-09T07:53:08.298098Z",
     "iopub.status.idle": "2021-05-09T07:53:08.327560Z",
     "shell.execute_reply": "2021-05-09T07:53:08.328049Z"
    },
    "papermill": {
     "duration": 0.070562,
     "end_time": "2021-05-09T07:53:08.328208",
     "exception": false,
     "start_time": "2021-05-09T07:53:08.257646",
     "status": "completed"
    },
    "tags": []
   },
   "outputs": [
    {
     "data": {
      "application/javascript": [
       "parent.postMessage({\"jupyterEvent\": \"custom.exercise_interaction\", \"data\": {\"outcomeType\": 1, \"valueTowardsCompletion\": 1.0, \"interactionType\": 1, \"questionType\": 2, \"questionId\": \"3.1_ImputeCode\", \"learnToolsVersion\": \"0.3.4\", \"failureMessage\": \"\", \"exceptionClass\": \"\", \"trace\": \"\"}}, \"*\")"
      ],
      "text/plain": [
       "<IPython.core.display.Javascript object>"
      ]
     },
     "metadata": {},
     "output_type": "display_data"
    },
    {
     "data": {
      "text/markdown": [
       "<span style=\"color:#33cc33\">Correct</span>"
      ],
      "text/plain": [
       "Correct"
      ]
     },
     "metadata": {},
     "output_type": "display_data"
    }
   ],
   "source": [
    "from sklearn.impute import SimpleImputer\n",
    "\n",
    "# Fill in the lines below: imputation\n",
    "impute = SimpleImputer()\n",
    "imputed_X_train = pd.DataFrame(impute.fit_transform(X_train))\n",
    "imputed_X_valid = pd.DataFrame(impute.transform(X_valid))\n",
    "\n",
    "# Fill in the lines below: imputation removed column names; put them back\n",
    "imputed_X_train.columns = X_train.columns\n",
    "imputed_X_valid.columns = X_valid.columns\n",
    "\n",
    "# Check your answers\n",
    "step_3.a.check()"
   ]
  },
  {
   "cell_type": "code",
   "execution_count": 14,
   "id": "excellent-chrome",
   "metadata": {
    "execution": {
     "iopub.execute_input": "2021-05-09T07:53:08.393159Z",
     "iopub.status.busy": "2021-05-09T07:53:08.392525Z",
     "iopub.status.idle": "2021-05-09T07:53:08.395258Z",
     "shell.execute_reply": "2021-05-09T07:53:08.395822Z"
    },
    "papermill": {
     "duration": 0.037072,
     "end_time": "2021-05-09T07:53:08.395983",
     "exception": false,
     "start_time": "2021-05-09T07:53:08.358911",
     "status": "completed"
    },
    "tags": []
   },
   "outputs": [],
   "source": [
    "# Lines below will give you a hint or solution code\n",
    "#step_3.a.hint()\n",
    "#step_3.a.solution()"
   ]
  },
  {
   "cell_type": "markdown",
   "id": "visible-valentine",
   "metadata": {
    "papermill": {
     "duration": 0.031373,
     "end_time": "2021-05-09T07:53:08.459984",
     "exception": false,
     "start_time": "2021-05-09T07:53:08.428611",
     "status": "completed"
    },
    "tags": []
   },
   "source": [
    "Run the next code cell without changes to obtain the MAE for this approach."
   ]
  },
  {
   "cell_type": "code",
   "execution_count": 15,
   "id": "orange-motorcycle",
   "metadata": {
    "execution": {
     "iopub.execute_input": "2021-05-09T07:53:08.528046Z",
     "iopub.status.busy": "2021-05-09T07:53:08.527371Z",
     "iopub.status.idle": "2021-05-09T07:53:09.811357Z",
     "shell.execute_reply": "2021-05-09T07:53:09.810803Z"
    },
    "papermill": {
     "duration": 1.319628,
     "end_time": "2021-05-09T07:53:09.811493",
     "exception": false,
     "start_time": "2021-05-09T07:53:08.491865",
     "status": "completed"
    },
    "tags": []
   },
   "outputs": [
    {
     "name": "stdout",
     "output_type": "stream",
     "text": [
      "MAE (Imputation):\n",
      "18062.894611872147\n"
     ]
    }
   ],
   "source": [
    "print(\"MAE (Imputation):\")\n",
    "print(score_dataset(imputed_X_train, imputed_X_valid, y_train, y_valid))"
   ]
  },
  {
   "cell_type": "markdown",
   "id": "stopped-chain",
   "metadata": {
    "papermill": {
     "duration": 0.032805,
     "end_time": "2021-05-09T07:53:09.877063",
     "exception": false,
     "start_time": "2021-05-09T07:53:09.844258",
     "status": "completed"
    },
    "tags": []
   },
   "source": [
    "### Part B\n",
    "\n",
    "Compare the MAE from each approach.  Does anything surprise you about the results?  Why do you think one approach performed better than the other?"
   ]
  },
  {
   "cell_type": "code",
   "execution_count": 16,
   "id": "ranking-yukon",
   "metadata": {
    "execution": {
     "iopub.execute_input": "2021-05-09T07:53:09.947381Z",
     "iopub.status.busy": "2021-05-09T07:53:09.946519Z",
     "iopub.status.idle": "2021-05-09T07:53:09.951873Z",
     "shell.execute_reply": "2021-05-09T07:53:09.952361Z"
    },
    "papermill": {
     "duration": 0.042627,
     "end_time": "2021-05-09T07:53:09.952516",
     "exception": false,
     "start_time": "2021-05-09T07:53:09.909889",
     "status": "completed"
    },
    "tags": []
   },
   "outputs": [
    {
     "data": {
      "application/javascript": [
       "parent.postMessage({\"jupyterEvent\": \"custom.exercise_interaction\", \"data\": {\"outcomeType\": 1, \"valueTowardsCompletion\": 1.0, \"interactionType\": 1, \"questionType\": 4, \"questionId\": \"3.2_ImputeThought\", \"learnToolsVersion\": \"0.3.4\", \"failureMessage\": \"\", \"exceptionClass\": \"\", \"trace\": \"\"}}, \"*\")"
      ],
      "text/plain": [
       "<IPython.core.display.Javascript object>"
      ]
     },
     "metadata": {},
     "output_type": "display_data"
    },
    {
     "data": {
      "text/markdown": [
       "<span style=\"color:#33cc33\">Correct:</span> \n",
       "\n",
       "Given that thre are so few missing values in the dataset, we'd expect imputation to perform better than dropping columns entirely.  However, we see that dropping columns performs slightly better!  While this can probably partially be attributed to noise in the dataset, another potential explanation is that the imputation method is not a great match to this dataset.  That is, maybe instead of filling in the mean value, it makes more sense to set every missing value to a value of 0, to fill in the most frequently encountered value, or to use some other method.  For instance, consider the `GarageYrBlt` column (which indicates the year that the garage was built).  It's likely that in some cases, a missing value could indicate a house that does not have a garage.  Does it make more sense to fill in the median value along each column in this case?  Or could we get better results by filling in the minimum value along each column?  It's not quite clear what's best in this case, but perhaps we can rule out some options immediately - for instance, setting missing values in this column to 0 is likely to yield horrible results!"
      ],
      "text/plain": [
       "Correct: \n",
       "\n",
       "Given that thre are so few missing values in the dataset, we'd expect imputation to perform better than dropping columns entirely.  However, we see that dropping columns performs slightly better!  While this can probably partially be attributed to noise in the dataset, another potential explanation is that the imputation method is not a great match to this dataset.  That is, maybe instead of filling in the mean value, it makes more sense to set every missing value to a value of 0, to fill in the most frequently encountered value, or to use some other method.  For instance, consider the `GarageYrBlt` column (which indicates the year that the garage was built).  It's likely that in some cases, a missing value could indicate a house that does not have a garage.  Does it make more sense to fill in the median value along each column in this case?  Or could we get better results by filling in the minimum value along each column?  It's not quite clear what's best in this case, but perhaps we can rule out some options immediately - for instance, setting missing values in this column to 0 is likely to yield horrible results!"
      ]
     },
     "metadata": {},
     "output_type": "display_data"
    }
   ],
   "source": [
    "# Check your answer (Run this code cell to receive credit!)\n",
    "step_3.b.check()"
   ]
  },
  {
   "cell_type": "code",
   "execution_count": 17,
   "id": "retired-determination",
   "metadata": {
    "execution": {
     "iopub.execute_input": "2021-05-09T07:53:10.024249Z",
     "iopub.status.busy": "2021-05-09T07:53:10.023293Z",
     "iopub.status.idle": "2021-05-09T07:53:10.026753Z",
     "shell.execute_reply": "2021-05-09T07:53:10.027260Z"
    },
    "papermill": {
     "duration": 0.041402,
     "end_time": "2021-05-09T07:53:10.027429",
     "exception": false,
     "start_time": "2021-05-09T07:53:09.986027",
     "status": "completed"
    },
    "tags": []
   },
   "outputs": [],
   "source": [
    "#step_3.b.hint()"
   ]
  },
  {
   "cell_type": "markdown",
   "id": "cleared-insured",
   "metadata": {
    "papermill": {
     "duration": 0.033727,
     "end_time": "2021-05-09T07:53:10.095098",
     "exception": false,
     "start_time": "2021-05-09T07:53:10.061371",
     "status": "completed"
    },
    "tags": []
   },
   "source": [
    "# Step 4: Generate test predictions\n",
    "\n",
    "In this final step, you'll use any approach of your choosing to deal with missing values.  Once you've preprocessed the training and validation features, you'll train and evaluate a random forest model.  Then, you'll preprocess the test data before generating predictions that can be submitted to the competition!\n",
    "\n",
    "### Part A\n",
    "\n",
    "Use the next code cell to preprocess the training and validation data.  Set the preprocessed DataFrames to `final_X_train` and `final_X_valid`.  **You can use any approach of your choosing here!**  in order for this step to be marked as correct, you need only ensure:\n",
    "- the preprocessed DataFrames have the same number of columns,\n",
    "- the preprocessed DataFrames have no missing values, \n",
    "- `final_X_train` and `y_train` have the same number of rows, and\n",
    "- `final_X_valid` and `y_valid` have the same number of rows."
   ]
  },
  {
   "cell_type": "code",
   "execution_count": 18,
   "id": "sound-repository",
   "metadata": {
    "execution": {
     "iopub.execute_input": "2021-05-09T07:53:10.166877Z",
     "iopub.status.busy": "2021-05-09T07:53:10.165956Z",
     "iopub.status.idle": "2021-05-09T07:53:10.197391Z",
     "shell.execute_reply": "2021-05-09T07:53:10.197908Z"
    },
    "papermill": {
     "duration": 0.068864,
     "end_time": "2021-05-09T07:53:10.198072",
     "exception": false,
     "start_time": "2021-05-09T07:53:10.129208",
     "status": "completed"
    },
    "tags": []
   },
   "outputs": [
    {
     "data": {
      "application/javascript": [
       "parent.postMessage({\"jupyterEvent\": \"custom.exercise_interaction\", \"data\": {\"outcomeType\": 1, \"valueTowardsCompletion\": 1.0, \"interactionType\": 1, \"questionType\": 2, \"questionId\": \"4.1_PredsCodeA\", \"learnToolsVersion\": \"0.3.4\", \"failureMessage\": \"\", \"exceptionClass\": \"\", \"trace\": \"\"}}, \"*\")"
      ],
      "text/plain": [
       "<IPython.core.display.Javascript object>"
      ]
     },
     "metadata": {},
     "output_type": "display_data"
    },
    {
     "data": {
      "text/markdown": [
       "<span style=\"color:#33cc33\">Correct</span>"
      ],
      "text/plain": [
       "Correct"
      ]
     },
     "metadata": {},
     "output_type": "display_data"
    }
   ],
   "source": [
    "# Preprocessed training and validation features\n",
    "impute = SimpleImputer(strategy='median')\n",
    "final_X_train = pd.DataFrame(impute.fit_transform(X_train))\n",
    "final_X_valid = pd.DataFrame(impute.transform(X_valid))\n",
    "\n",
    "# Imputation removed column names; put them back\n",
    "final_X_train.columns = X_train.columns\n",
    "final_X_valid.columns = X_valid.columns\n",
    "\n",
    "# Check your answers\n",
    "step_4.a.check()"
   ]
  },
  {
   "cell_type": "code",
   "execution_count": 19,
   "id": "collectible-queens",
   "metadata": {
    "execution": {
     "iopub.execute_input": "2021-05-09T07:53:10.271480Z",
     "iopub.status.busy": "2021-05-09T07:53:10.270572Z",
     "iopub.status.idle": "2021-05-09T07:53:10.273835Z",
     "shell.execute_reply": "2021-05-09T07:53:10.274336Z"
    },
    "papermill": {
     "duration": 0.041389,
     "end_time": "2021-05-09T07:53:10.274498",
     "exception": false,
     "start_time": "2021-05-09T07:53:10.233109",
     "status": "completed"
    },
    "tags": []
   },
   "outputs": [],
   "source": [
    "# Lines below will give you a hint or solution code\n",
    "#step_4.a.hint()\n",
    "#step_4.a.solution()"
   ]
  },
  {
   "cell_type": "markdown",
   "id": "sudden-league",
   "metadata": {
    "papermill": {
     "duration": 0.035258,
     "end_time": "2021-05-09T07:53:10.345001",
     "exception": false,
     "start_time": "2021-05-09T07:53:10.309743",
     "status": "completed"
    },
    "tags": []
   },
   "source": [
    "Run the next code cell to train and evaluate a random forest model.  (*Note that we don't use the `score_dataset()` function above, because we will soon use the trained model to generate test predictions!*)"
   ]
  },
  {
   "cell_type": "code",
   "execution_count": 20,
   "id": "efficient-resort",
   "metadata": {
    "execution": {
     "iopub.execute_input": "2021-05-09T07:53:10.419840Z",
     "iopub.status.busy": "2021-05-09T07:53:10.418876Z",
     "iopub.status.idle": "2021-05-09T07:53:11.705865Z",
     "shell.execute_reply": "2021-05-09T07:53:11.706373Z"
    },
    "papermill": {
     "duration": 1.326137,
     "end_time": "2021-05-09T07:53:11.706546",
     "exception": false,
     "start_time": "2021-05-09T07:53:10.380409",
     "status": "completed"
    },
    "tags": []
   },
   "outputs": [
    {
     "name": "stdout",
     "output_type": "stream",
     "text": [
      "MAE (Your approach):\n",
      "17791.59899543379\n"
     ]
    }
   ],
   "source": [
    "# Define and fit model\n",
    "model = RandomForestRegressor(n_estimators=100, random_state=0)\n",
    "model.fit(final_X_train, y_train)\n",
    "\n",
    "# Get validation predictions and MAE\n",
    "preds_valid = model.predict(final_X_valid)\n",
    "print(\"MAE (Your approach):\")\n",
    "print(mean_absolute_error(y_valid, preds_valid))"
   ]
  },
  {
   "cell_type": "markdown",
   "id": "related-setup",
   "metadata": {
    "papermill": {
     "duration": 0.035625,
     "end_time": "2021-05-09T07:53:11.777999",
     "exception": false,
     "start_time": "2021-05-09T07:53:11.742374",
     "status": "completed"
    },
    "tags": []
   },
   "source": [
    "### Part B\n",
    "\n",
    "Use the next code cell to preprocess your test data.  Make sure that you use a method that agrees with how you preprocessed the training and validation data, and set the preprocessed test features to `final_X_test`.\n",
    "\n",
    "Then, use the preprocessed test features and the trained model to generate test predictions in `preds_test`.\n",
    "\n",
    "In order for this step to be marked correct, you need only ensure:\n",
    "- the preprocessed test DataFrame has no missing values, and\n",
    "- `final_X_test` has the same number of rows as `X_test`."
   ]
  },
  {
   "cell_type": "code",
   "execution_count": 21,
   "id": "sufficient-pitch",
   "metadata": {
    "execution": {
     "iopub.execute_input": "2021-05-09T07:53:11.856575Z",
     "iopub.status.busy": "2021-05-09T07:53:11.855978Z",
     "iopub.status.idle": "2021-05-09T07:53:11.902616Z",
     "shell.execute_reply": "2021-05-09T07:53:11.902054Z"
    },
    "papermill": {
     "duration": 0.088986,
     "end_time": "2021-05-09T07:53:11.902762",
     "exception": false,
     "start_time": "2021-05-09T07:53:11.813776",
     "status": "completed"
    },
    "tags": []
   },
   "outputs": [
    {
     "data": {
      "application/javascript": [
       "parent.postMessage({\"jupyterEvent\": \"custom.exercise_interaction\", \"data\": {\"outcomeType\": 1, \"valueTowardsCompletion\": 1.0, \"interactionType\": 1, \"questionType\": 2, \"questionId\": \"4.2_PredsCodeB\", \"learnToolsVersion\": \"0.3.4\", \"failureMessage\": \"\", \"exceptionClass\": \"\", \"trace\": \"\"}}, \"*\")"
      ],
      "text/plain": [
       "<IPython.core.display.Javascript object>"
      ]
     },
     "metadata": {},
     "output_type": "display_data"
    },
    {
     "data": {
      "text/markdown": [
       "<span style=\"color:#33cc33\">Correct</span>"
      ],
      "text/plain": [
       "Correct"
      ]
     },
     "metadata": {},
     "output_type": "display_data"
    }
   ],
   "source": [
    "final_X_test = pd.DataFrame(impute.transform(X_test))\n",
    "preds_test = model.predict(final_X_test)\n",
    "\n",
    "# Check your answers\n",
    "step_4.b.check()"
   ]
  },
  {
   "cell_type": "code",
   "execution_count": 22,
   "id": "persistent-token",
   "metadata": {
    "execution": {
     "iopub.execute_input": "2021-05-09T07:53:11.979742Z",
     "iopub.status.busy": "2021-05-09T07:53:11.979124Z",
     "iopub.status.idle": "2021-05-09T07:53:11.982159Z",
     "shell.execute_reply": "2021-05-09T07:53:11.982603Z"
    },
    "papermill": {
     "duration": 0.043598,
     "end_time": "2021-05-09T07:53:11.982766",
     "exception": false,
     "start_time": "2021-05-09T07:53:11.939168",
     "status": "completed"
    },
    "tags": []
   },
   "outputs": [],
   "source": [
    "# Lines below will give you a hint or solution code\n",
    "#step_4.b.hint()\n",
    "#step_4.b.solution()"
   ]
  },
  {
   "cell_type": "markdown",
   "id": "deadly-spouse",
   "metadata": {
    "papermill": {
     "duration": 0.036916,
     "end_time": "2021-05-09T07:53:12.056800",
     "exception": false,
     "start_time": "2021-05-09T07:53:12.019884",
     "status": "completed"
    },
    "tags": []
   },
   "source": [
    "Run the next code cell without changes to save your results to a CSV file that can be submitted directly to the competition."
   ]
  },
  {
   "cell_type": "code",
   "execution_count": 23,
   "id": "particular-wrist",
   "metadata": {
    "execution": {
     "iopub.execute_input": "2021-05-09T07:53:12.137391Z",
     "iopub.status.busy": "2021-05-09T07:53:12.136698Z",
     "iopub.status.idle": "2021-05-09T07:53:12.147498Z",
     "shell.execute_reply": "2021-05-09T07:53:12.146933Z"
    },
    "papermill": {
     "duration": 0.053672,
     "end_time": "2021-05-09T07:53:12.147659",
     "exception": false,
     "start_time": "2021-05-09T07:53:12.093987",
     "status": "completed"
    },
    "tags": []
   },
   "outputs": [],
   "source": [
    "# Save test predictions to file\n",
    "output = pd.DataFrame({'Id': X_test.index,\n",
    "                       'SalePrice': preds_test})\n",
    "output.to_csv('submission.csv', index=False)"
   ]
  },
  {
   "cell_type": "markdown",
   "id": "cordless-captain",
   "metadata": {
    "papermill": {
     "duration": 0.036667,
     "end_time": "2021-05-09T07:53:12.221973",
     "exception": false,
     "start_time": "2021-05-09T07:53:12.185306",
     "status": "completed"
    },
    "tags": []
   },
   "source": [
    "# Submit your results\n",
    "\n",
    "Once you have successfully completed Step 4, you're ready to submit your results to the leaderboard!  (_You also learned how to do this in the previous exercise.  If you need a reminder of how to do this, please use the instructions below._)  \n",
    "\n",
    "First, you'll need to join the competition if you haven't already.  So open a new window by clicking on [this link](https://www.kaggle.com/c/home-data-for-ml-course).  Then click on the **Join Competition** button.\n",
    "\n",
    "![join competition image](https://i.imgur.com/wLmFtH3.png)\n",
    "\n",
    "Next, follow the instructions below:\n",
    "1. Begin by clicking on the blue **Save Version** button in the top right corner of the window.  This will generate a pop-up window.  \n",
    "2. Ensure that the **Save and Run All** option is selected, and then click on the blue **Save** button.\n",
    "3. This generates a window in the bottom left corner of the notebook.  After it has finished running, click on the number to the right of the **Save Version** button.  This pulls up a list of versions on the right of the screen.  Click on the ellipsis **(...)** to the right of the most recent version, and select **Open in Viewer**.  This brings you into view mode of the same page. You will need to scroll down to get back to these instructions.\n",
    "4. Click on the **Output** tab on the right of the screen.  Then, click on the file you would like to submit, and click on the blue **Submit** button to submit your results to the leaderboard.\n",
    "\n",
    "You have now successfully submitted to the competition!\n",
    "\n",
    "If you want to keep working to improve your performance, select the blue **Edit** button in the top right of the screen. Then you can change your code and repeat the process. There's a lot of room to improve, and you will climb up the leaderboard as you work.\n",
    "\n",
    "\n",
    "# Keep going\n",
    "\n",
    "Move on to learn what **[categorical variables](https://www.kaggle.com/alexisbcook/categorical-variables)** are, along with how to incorporate them into your machine learning models.  Categorical variables are very common in real-world data, but you'll get an error if you try to plug them into your models without processing them first!"
   ]
  },
  {
   "cell_type": "markdown",
   "id": "fifth-soccer",
   "metadata": {
    "papermill": {
     "duration": 0.036384,
     "end_time": "2021-05-09T07:53:12.295548",
     "exception": false,
     "start_time": "2021-05-09T07:53:12.259164",
     "status": "completed"
    },
    "tags": []
   },
   "source": [
    "---\n",
    "\n",
    "\n",
    "\n",
    "\n",
    "*Have questions or comments? Visit the [Learn Discussion forum](https://www.kaggle.com/learn-forum/161289) to chat with other Learners.*"
   ]
  }
 ],
 "metadata": {
  "kernelspec": {
   "display_name": "Python 3",
   "language": "python",
   "name": "python3"
  },
  "language_info": {
   "codemirror_mode": {
    "name": "ipython",
    "version": 3
   },
   "file_extension": ".py",
   "mimetype": "text/x-python",
   "name": "python",
   "nbconvert_exporter": "python",
   "pygments_lexer": "ipython3",
   "version": "3.7.9"
  },
  "papermill": {
   "default_parameters": {},
   "duration": 14.983868,
   "end_time": "2021-05-09T07:53:13.042451",
   "environment_variables": {},
   "exception": null,
   "input_path": "__notebook__.ipynb",
   "output_path": "__notebook__.ipynb",
   "parameters": {},
   "start_time": "2021-05-09T07:52:58.058583",
   "version": "2.3.2"
  }
 },
 "nbformat": 4,
 "nbformat_minor": 5
}
